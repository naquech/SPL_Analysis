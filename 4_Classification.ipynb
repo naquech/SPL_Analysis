{
 "cells": [
  {
   "cell_type": "markdown",
   "metadata": {},
   "source": [
    "# Classification Models\n",
    "### Target: UsageClass\n",
    "--------"
   ]
  },
  {
   "cell_type": "code",
   "execution_count": 1,
   "metadata": {},
   "outputs": [],
   "source": [
    "import pandas as pd\n",
    "import numpy as np\n",
    "\n",
    "import warnings\n",
    "warnings.filterwarnings('ignore')"
   ]
  },
  {
   "cell_type": "code",
   "execution_count": 10,
   "metadata": {},
   "outputs": [],
   "source": [
    "from sklearn.linear_model import LogisticRegression\n",
    "from sklearn.model_selection import train_test_split\n",
    "from sklearn.metrics import classification_report, accuracy_score, roc_auc_score"
   ]
  },
  {
   "cell_type": "code",
   "execution_count": 2,
   "metadata": {},
   "outputs": [
    {
     "data": {
      "text/html": [
       "<div>\n",
       "<style scoped>\n",
       "    .dataframe tbody tr th:only-of-type {\n",
       "        vertical-align: middle;\n",
       "    }\n",
       "\n",
       "    .dataframe tbody tr th {\n",
       "        vertical-align: top;\n",
       "    }\n",
       "\n",
       "    .dataframe thead th {\n",
       "        text-align: right;\n",
       "    }\n",
       "</style>\n",
       "<table border=\"1\" class=\"dataframe\">\n",
       "  <thead>\n",
       "    <tr style=\"text-align: right;\">\n",
       "      <th></th>\n",
       "      <th>UsageClass</th>\n",
       "      <th>CheckoutType</th>\n",
       "      <th>MaterialType</th>\n",
       "      <th>CheckoutYear</th>\n",
       "      <th>CheckoutMonth</th>\n",
       "      <th>Checkouts</th>\n",
       "      <th>Title</th>\n",
       "      <th>Creator</th>\n",
       "      <th>Subjects</th>\n",
       "      <th>Publisher</th>\n",
       "      <th>PublicationYear</th>\n",
       "      <th>_Season</th>\n",
       "      <th>_check_eq_publ</th>\n",
       "    </tr>\n",
       "  </thead>\n",
       "  <tbody>\n",
       "    <tr>\n",
       "      <th>0</th>\n",
       "      <td>Digital</td>\n",
       "      <td>Freegal</td>\n",
       "      <td>SONG</td>\n",
       "      <td>2018</td>\n",
       "      <td>2</td>\n",
       "      <td>1</td>\n",
       "      <td>The Music Of The Night</td>\n",
       "      <td>Susan Boyle feat. Michael Crawford</td>\n",
       "      <td>Unknown</td>\n",
       "      <td>Unknown</td>\n",
       "      <td>9999</td>\n",
       "      <td>Winter</td>\n",
       "      <td>No</td>\n",
       "    </tr>\n",
       "    <tr>\n",
       "      <th>1</th>\n",
       "      <td>Digital</td>\n",
       "      <td>Freegal</td>\n",
       "      <td>SONG</td>\n",
       "      <td>2017</td>\n",
       "      <td>7</td>\n",
       "      <td>1</td>\n",
       "      <td>Opaline</td>\n",
       "      <td>Dishwalla</td>\n",
       "      <td>Unknown</td>\n",
       "      <td>Unknown</td>\n",
       "      <td>9999</td>\n",
       "      <td>Summer</td>\n",
       "      <td>No</td>\n",
       "    </tr>\n",
       "  </tbody>\n",
       "</table>\n",
       "</div>"
      ],
      "text/plain": [
       "  UsageClass CheckoutType MaterialType  CheckoutYear  CheckoutMonth  \\\n",
       "0    Digital      Freegal         SONG          2018              2   \n",
       "1    Digital      Freegal         SONG          2017              7   \n",
       "\n",
       "   Checkouts                   Title                             Creator  \\\n",
       "0          1  The Music Of The Night  Susan Boyle feat. Michael Crawford   \n",
       "1          1                 Opaline                           Dishwalla   \n",
       "\n",
       "  Subjects Publisher  PublicationYear _Season _check_eq_publ  \n",
       "0  Unknown   Unknown             9999  Winter             No  \n",
       "1  Unknown   Unknown             9999  Summer             No  "
      ]
     },
     "execution_count": 2,
     "metadata": {},
     "output_type": "execute_result"
    }
   ],
   "source": [
    "sampleDF = pd.read_csv('Data/sampleDF.csv')\n",
    "sampleDF.head(2)"
   ]
  },
  {
   "cell_type": "code",
   "execution_count": 103,
   "metadata": {},
   "outputs": [
    {
     "data": {
      "text/plain": [
       "(100000, 13)"
      ]
     },
     "execution_count": 103,
     "metadata": {},
     "output_type": "execute_result"
    }
   ],
   "source": [
    "sampleDF.shape"
   ]
  },
  {
   "cell_type": "code",
   "execution_count": 3,
   "metadata": {},
   "outputs": [],
   "source": [
    "from sklearn import preprocessing"
   ]
  },
  {
   "cell_type": "code",
   "execution_count": 4,
   "metadata": {},
   "outputs": [],
   "source": [
    "#Function to label encode categories in a Dataframe\n",
    "\n",
    "def encode_features(df):\n",
    "    result = df.copy()\n",
    "    encoders = {}\n",
    "    for column in result.columns:\n",
    "        if result.dtypes[column] == np.object:\n",
    "            encoders[column] = preprocessing.LabelEncoder()\n",
    "            result[column] = encoders[column].fit_transform(result[column])\n",
    "    return result, encoders"
   ]
  },
  {
   "cell_type": "code",
   "execution_count": 5,
   "metadata": {},
   "outputs": [
    {
     "data": {
      "text/html": [
       "<div>\n",
       "<style scoped>\n",
       "    .dataframe tbody tr th:only-of-type {\n",
       "        vertical-align: middle;\n",
       "    }\n",
       "\n",
       "    .dataframe tbody tr th {\n",
       "        vertical-align: top;\n",
       "    }\n",
       "\n",
       "    .dataframe thead th {\n",
       "        text-align: right;\n",
       "    }\n",
       "</style>\n",
       "<table border=\"1\" class=\"dataframe\">\n",
       "  <thead>\n",
       "    <tr style=\"text-align: right;\">\n",
       "      <th></th>\n",
       "      <th>UsageClass</th>\n",
       "      <th>CheckoutType</th>\n",
       "      <th>MaterialType</th>\n",
       "      <th>CheckoutYear</th>\n",
       "      <th>CheckoutMonth</th>\n",
       "      <th>Checkouts</th>\n",
       "      <th>Title</th>\n",
       "      <th>Creator</th>\n",
       "      <th>Subjects</th>\n",
       "      <th>Publisher</th>\n",
       "      <th>PublicationYear</th>\n",
       "      <th>_Season</th>\n",
       "      <th>_check_eq_publ</th>\n",
       "    </tr>\n",
       "  </thead>\n",
       "  <tbody>\n",
       "    <tr>\n",
       "      <th>0</th>\n",
       "      <td>0</td>\n",
       "      <td>0</td>\n",
       "      <td>15</td>\n",
       "      <td>2018</td>\n",
       "      <td>2</td>\n",
       "      <td>1</td>\n",
       "      <td>67551</td>\n",
       "      <td>32401</td>\n",
       "      <td>58248</td>\n",
       "      <td>11309</td>\n",
       "      <td>9999</td>\n",
       "      <td>3</td>\n",
       "      <td>0</td>\n",
       "    </tr>\n",
       "    <tr>\n",
       "      <th>1</th>\n",
       "      <td>0</td>\n",
       "      <td>0</td>\n",
       "      <td>15</td>\n",
       "      <td>2017</td>\n",
       "      <td>7</td>\n",
       "      <td>1</td>\n",
       "      <td>48784</td>\n",
       "      <td>8688</td>\n",
       "      <td>58248</td>\n",
       "      <td>11309</td>\n",
       "      <td>9999</td>\n",
       "      <td>2</td>\n",
       "      <td>0</td>\n",
       "    </tr>\n",
       "    <tr>\n",
       "      <th>2</th>\n",
       "      <td>1</td>\n",
       "      <td>2</td>\n",
       "      <td>18</td>\n",
       "      <td>2013</td>\n",
       "      <td>5</td>\n",
       "      <td>1</td>\n",
       "      <td>26636</td>\n",
       "      <td>23197</td>\n",
       "      <td>44689</td>\n",
       "      <td>1905</td>\n",
       "      <td>9999</td>\n",
       "      <td>1</td>\n",
       "      <td>0</td>\n",
       "    </tr>\n",
       "    <tr>\n",
       "      <th>3</th>\n",
       "      <td>1</td>\n",
       "      <td>2</td>\n",
       "      <td>2</td>\n",
       "      <td>2006</td>\n",
       "      <td>7</td>\n",
       "      <td>1</td>\n",
       "      <td>20272</td>\n",
       "      <td>27240</td>\n",
       "      <td>58248</td>\n",
       "      <td>7542</td>\n",
       "      <td>9999</td>\n",
       "      <td>2</td>\n",
       "      <td>0</td>\n",
       "    </tr>\n",
       "    <tr>\n",
       "      <th>4</th>\n",
       "      <td>1</td>\n",
       "      <td>2</td>\n",
       "      <td>2</td>\n",
       "      <td>2015</td>\n",
       "      <td>4</td>\n",
       "      <td>2</td>\n",
       "      <td>3782</td>\n",
       "      <td>8508</td>\n",
       "      <td>53849</td>\n",
       "      <td>4830</td>\n",
       "      <td>2010</td>\n",
       "      <td>1</td>\n",
       "      <td>0</td>\n",
       "    </tr>\n",
       "  </tbody>\n",
       "</table>\n",
       "</div>"
      ],
      "text/plain": [
       "   UsageClass  CheckoutType  MaterialType  CheckoutYear  CheckoutMonth  \\\n",
       "0           0             0            15          2018              2   \n",
       "1           0             0            15          2017              7   \n",
       "2           1             2            18          2013              5   \n",
       "3           1             2             2          2006              7   \n",
       "4           1             2             2          2015              4   \n",
       "\n",
       "   Checkouts  Title  Creator  Subjects  Publisher  PublicationYear  _Season  \\\n",
       "0          1  67551    32401     58248      11309             9999        3   \n",
       "1          1  48784     8688     58248      11309             9999        2   \n",
       "2          1  26636    23197     44689       1905             9999        1   \n",
       "3          1  20272    27240     58248       7542             9999        2   \n",
       "4          2   3782     8508     53849       4830             2010        1   \n",
       "\n",
       "   _check_eq_publ  \n",
       "0               0  \n",
       "1               0  \n",
       "2               0  \n",
       "3               0  \n",
       "4               0  "
      ]
     },
     "execution_count": 5,
     "metadata": {},
     "output_type": "execute_result"
    }
   ],
   "source": [
    "df_encoded, _ = encode_features(sampleDF)\n",
    "df_encoded.head()"
   ]
  },
  {
   "cell_type": "markdown",
   "metadata": {},
   "source": [
    "<p>UsageClass: </p>\n",
    "<p>     0 -> Digital </p>\n",
    "<p>     1 -> Physiccal </p>"
   ]
  },
  {
   "cell_type": "markdown",
   "metadata": {},
   "source": [
    "## Define X and y"
   ]
  },
  {
   "cell_type": "code",
   "execution_count": 74,
   "metadata": {},
   "outputs": [
    {
     "data": {
      "text/html": [
       "<div>\n",
       "<style scoped>\n",
       "    .dataframe tbody tr th:only-of-type {\n",
       "        vertical-align: middle;\n",
       "    }\n",
       "\n",
       "    .dataframe tbody tr th {\n",
       "        vertical-align: top;\n",
       "    }\n",
       "\n",
       "    .dataframe thead th {\n",
       "        text-align: right;\n",
       "    }\n",
       "</style>\n",
       "<table border=\"1\" class=\"dataframe\">\n",
       "  <thead>\n",
       "    <tr style=\"text-align: right;\">\n",
       "      <th></th>\n",
       "      <th>CheckoutType</th>\n",
       "      <th>MaterialType</th>\n",
       "      <th>CheckoutYear</th>\n",
       "      <th>CheckoutMonth</th>\n",
       "      <th>Checkouts</th>\n",
       "      <th>Title</th>\n",
       "      <th>Creator</th>\n",
       "      <th>Subjects</th>\n",
       "      <th>Publisher</th>\n",
       "      <th>PublicationYear</th>\n",
       "      <th>_Season</th>\n",
       "      <th>_check_eq_publ</th>\n",
       "    </tr>\n",
       "  </thead>\n",
       "  <tbody>\n",
       "    <tr>\n",
       "      <th>0</th>\n",
       "      <td>0</td>\n",
       "      <td>15</td>\n",
       "      <td>2018</td>\n",
       "      <td>2</td>\n",
       "      <td>1</td>\n",
       "      <td>67551</td>\n",
       "      <td>32401</td>\n",
       "      <td>58248</td>\n",
       "      <td>11309</td>\n",
       "      <td>9999</td>\n",
       "      <td>3</td>\n",
       "      <td>0</td>\n",
       "    </tr>\n",
       "    <tr>\n",
       "      <th>1</th>\n",
       "      <td>0</td>\n",
       "      <td>15</td>\n",
       "      <td>2017</td>\n",
       "      <td>7</td>\n",
       "      <td>1</td>\n",
       "      <td>48784</td>\n",
       "      <td>8688</td>\n",
       "      <td>58248</td>\n",
       "      <td>11309</td>\n",
       "      <td>9999</td>\n",
       "      <td>2</td>\n",
       "      <td>0</td>\n",
       "    </tr>\n",
       "  </tbody>\n",
       "</table>\n",
       "</div>"
      ],
      "text/plain": [
       "   CheckoutType  MaterialType  CheckoutYear  CheckoutMonth  Checkouts  Title  \\\n",
       "0             0            15          2018              2          1  67551   \n",
       "1             0            15          2017              7          1  48784   \n",
       "\n",
       "   Creator  Subjects  Publisher  PublicationYear  _Season  _check_eq_publ  \n",
       "0    32401     58248      11309             9999        3               0  \n",
       "1     8688     58248      11309             9999        2               0  "
      ]
     },
     "execution_count": 74,
     "metadata": {},
     "output_type": "execute_result"
    }
   ],
   "source": [
    "X = df_encoded.iloc[:,1:13]\n",
    "X.head(2)"
   ]
  },
  {
   "cell_type": "code",
   "execution_count": 75,
   "metadata": {},
   "outputs": [],
   "source": [
    "y = df_encoded.UsageClass"
   ]
  },
  {
   "cell_type": "code",
   "execution_count": 76,
   "metadata": {},
   "outputs": [
    {
     "data": {
      "text/plain": [
       "100000"
      ]
     },
     "execution_count": 76,
     "metadata": {},
     "output_type": "execute_result"
    }
   ],
   "source": [
    "len(y)"
   ]
  },
  {
   "cell_type": "markdown",
   "metadata": {},
   "source": [
    "## Normalization"
   ]
  },
  {
   "cell_type": "code",
   "execution_count": 77,
   "metadata": {},
   "outputs": [
    {
     "data": {
      "text/html": [
       "<div>\n",
       "<style scoped>\n",
       "    .dataframe tbody tr th:only-of-type {\n",
       "        vertical-align: middle;\n",
       "    }\n",
       "\n",
       "    .dataframe tbody tr th {\n",
       "        vertical-align: top;\n",
       "    }\n",
       "\n",
       "    .dataframe thead th {\n",
       "        text-align: right;\n",
       "    }\n",
       "</style>\n",
       "<table border=\"1\" class=\"dataframe\">\n",
       "  <thead>\n",
       "    <tr style=\"text-align: right;\">\n",
       "      <th></th>\n",
       "      <th>CheckoutType</th>\n",
       "      <th>MaterialType</th>\n",
       "      <th>CheckoutYear</th>\n",
       "      <th>CheckoutMonth</th>\n",
       "      <th>Checkouts</th>\n",
       "      <th>Title</th>\n",
       "      <th>Creator</th>\n",
       "      <th>Subjects</th>\n",
       "      <th>Publisher</th>\n",
       "      <th>PublicationYear</th>\n",
       "      <th>_Season</th>\n",
       "      <th>_check_eq_publ</th>\n",
       "    </tr>\n",
       "  </thead>\n",
       "  <tbody>\n",
       "    <tr>\n",
       "      <th>0</th>\n",
       "      <td>0.0</td>\n",
       "      <td>0.625000</td>\n",
       "      <td>0.928571</td>\n",
       "      <td>0.090909</td>\n",
       "      <td>0.000000</td>\n",
       "      <td>0.741675</td>\n",
       "      <td>0.874214</td>\n",
       "      <td>0.921821</td>\n",
       "      <td>0.907697</td>\n",
       "      <td>1.000000</td>\n",
       "      <td>1.000000</td>\n",
       "      <td>0.0</td>\n",
       "    </tr>\n",
       "    <tr>\n",
       "      <th>1</th>\n",
       "      <td>0.0</td>\n",
       "      <td>0.625000</td>\n",
       "      <td>0.857143</td>\n",
       "      <td>0.545455</td>\n",
       "      <td>0.000000</td>\n",
       "      <td>0.535623</td>\n",
       "      <td>0.234412</td>\n",
       "      <td>0.921821</td>\n",
       "      <td>0.907697</td>\n",
       "      <td>1.000000</td>\n",
       "      <td>0.666667</td>\n",
       "      <td>0.0</td>\n",
       "    </tr>\n",
       "    <tr>\n",
       "      <th>2</th>\n",
       "      <td>0.5</td>\n",
       "      <td>0.750000</td>\n",
       "      <td>0.571429</td>\n",
       "      <td>0.363636</td>\n",
       "      <td>0.000000</td>\n",
       "      <td>0.292449</td>\n",
       "      <td>0.625880</td>\n",
       "      <td>0.707239</td>\n",
       "      <td>0.152902</td>\n",
       "      <td>1.000000</td>\n",
       "      <td>0.333333</td>\n",
       "      <td>0.0</td>\n",
       "    </tr>\n",
       "    <tr>\n",
       "      <th>3</th>\n",
       "      <td>0.5</td>\n",
       "      <td>0.083333</td>\n",
       "      <td>0.071429</td>\n",
       "      <td>0.545455</td>\n",
       "      <td>0.000000</td>\n",
       "      <td>0.222576</td>\n",
       "      <td>0.734965</td>\n",
       "      <td>0.921821</td>\n",
       "      <td>0.605346</td>\n",
       "      <td>1.000000</td>\n",
       "      <td>0.666667</td>\n",
       "      <td>0.0</td>\n",
       "    </tr>\n",
       "    <tr>\n",
       "      <th>4</th>\n",
       "      <td>0.5</td>\n",
       "      <td>0.083333</td>\n",
       "      <td>0.714286</td>\n",
       "      <td>0.272727</td>\n",
       "      <td>0.002439</td>\n",
       "      <td>0.041524</td>\n",
       "      <td>0.229555</td>\n",
       "      <td>0.852203</td>\n",
       "      <td>0.387672</td>\n",
       "      <td>0.020235</td>\n",
       "      <td>0.333333</td>\n",
       "      <td>0.0</td>\n",
       "    </tr>\n",
       "  </tbody>\n",
       "</table>\n",
       "</div>"
      ],
      "text/plain": [
       "   CheckoutType  MaterialType  CheckoutYear  CheckoutMonth  Checkouts  \\\n",
       "0           0.0      0.625000      0.928571       0.090909   0.000000   \n",
       "1           0.0      0.625000      0.857143       0.545455   0.000000   \n",
       "2           0.5      0.750000      0.571429       0.363636   0.000000   \n",
       "3           0.5      0.083333      0.071429       0.545455   0.000000   \n",
       "4           0.5      0.083333      0.714286       0.272727   0.002439   \n",
       "\n",
       "      Title   Creator  Subjects  Publisher  PublicationYear   _Season  \\\n",
       "0  0.741675  0.874214  0.921821   0.907697         1.000000  1.000000   \n",
       "1  0.535623  0.234412  0.921821   0.907697         1.000000  0.666667   \n",
       "2  0.292449  0.625880  0.707239   0.152902         1.000000  0.333333   \n",
       "3  0.222576  0.734965  0.921821   0.605346         1.000000  0.666667   \n",
       "4  0.041524  0.229555  0.852203   0.387672         0.020235  0.333333   \n",
       "\n",
       "   _check_eq_publ  \n",
       "0             0.0  \n",
       "1             0.0  \n",
       "2             0.0  \n",
       "3             0.0  \n",
       "4             0.0  "
      ]
     },
     "execution_count": 77,
     "metadata": {},
     "output_type": "execute_result"
    }
   ],
   "source": [
    "for col in X.columns:\n",
    "    X[col] = (X[col]-min(X[col]))/ (max(X[col]) - min(X[col]))\n",
    "\n",
    "X.head()"
   ]
  },
  {
   "cell_type": "markdown",
   "metadata": {},
   "source": [
    "--------"
   ]
  },
  {
   "cell_type": "code",
   "execution_count": 24,
   "metadata": {},
   "outputs": [],
   "source": [
    "import matplotlib.pyplot as plt"
   ]
  },
  {
   "cell_type": "code",
   "execution_count": 79,
   "metadata": {},
   "outputs": [
    {
     "data": {
      "image/png": "[encoded data removed]",
      "text/plain": [
       "<Figure size 1080x720 with 2 Axes>"
      ]
     },
     "metadata": {
      "needs_background": "light"
     },
     "output_type": "display_data"
    }
   ],
   "source": [
    "fig, ax = plt.subplots(figsize=(15,10))         \n",
    "\n",
    "# Imbalanced DataFrame Correlation\n",
    "corr = X.corr()\n",
    "sns.heatmap(corr, cmap='Blues', annot_kws={'size':30}, ax=ax)\n",
    "ax.set_title(\"Feature Correlation Matrix\", fontsize=14)\n",
    "\n",
    "plt.show()"
   ]
  },
  {
   "cell_type": "markdown",
   "metadata": {},
   "source": [
    "### Automatic Feature Selection: identify features that are noninformative and remove them\n",
    "\n",
    "Univariate statistics, shows if there is statistically significance relationship between each feature and the target variable. Each feature is considered individually. "
   ]
  },
  {
   "cell_type": "code",
   "execution_count": 55,
   "metadata": {},
   "outputs": [],
   "source": [
    "from sklearn.feature_selection import SelectPercentile"
   ]
  },
  {
   "cell_type": "code",
   "execution_count": 80,
   "metadata": {},
   "outputs": [],
   "source": [
    "X_train, X_test, y_train, y_test = train_test_split(X, y, test_size=0.25)"
   ]
  },
  {
   "cell_type": "code",
   "execution_count": 81,
   "metadata": {},
   "outputs": [
    {
     "name": "stdout",
     "output_type": "stream",
     "text": [
      "X_train.shape: (75000, 12)\n",
      "X_train_selected.shape: (75000, 6)\n"
     ]
    }
   ],
   "source": [
    "# select 50% of the features\n",
    "select = SelectPercentile(percentile=50)\n",
    "select.fit(X_train, y_train)\n",
    "\n",
    "#transform training set\n",
    "X_train_selected = select.transform(X_train)\n",
    "\n",
    "print('X_train.shape: {}'.format(X_train.shape))\n",
    "print('X_train_selected.shape: {}'.format(X_train_selected.shape))"
   ]
  },
  {
   "cell_type": "code",
   "execution_count": 101,
   "metadata": {},
   "outputs": [
    {
     "name": "stdout",
     "output_type": "stream",
     "text": [
      "[ True False  True False False False  True  True False  True False  True]\n"
     ]
    },
    {
     "data": {
      "text/plain": [
       "([], <a list of 0 Text yticklabel objects>)"
      ]
     },
     "execution_count": 101,
     "metadata": {},
     "output_type": "execute_result"
    },
    {
     "data": {
      "image/png": "[encoded data removed]",
      "text/plain": [
       "<Figure size 1152x144 with 1 Axes>"
      ]
     },
     "metadata": {
      "needs_background": "light"
     },
     "output_type": "display_data"
    }
   ],
   "source": [
    "# visualization of features selected by SelectPercentile\n",
    "\n",
    "mask = select.get_support()\n",
    "print(mask)\n",
    "\n",
    "plt.matshow(mask.reshape(1, -1), cmap='gray_r')   #black is true, white is false\n",
    "plt.xlabel('Sample Index')\n",
    "plt.yticks(())"
   ]
  },
  {
   "cell_type": "markdown",
   "metadata": {},
   "source": [
    "#### Compare performance on all features against the preformance using only the selected features:"
   ]
  },
  {
   "cell_type": "code",
   "execution_count": 83,
   "metadata": {},
   "outputs": [
    {
     "name": "stdout",
     "output_type": "stream",
     "text": [
      "Score with all features: 0.899\n",
      "Score with only selected features: 0.908\n"
     ]
    }
   ],
   "source": [
    "# Transform test data\n",
    "X_test_selected = select.transform(X_test)\n",
    "\n",
    "lr = LogisticRegression()\n",
    "\n",
    "lr.fit(X_train, y_train)\n",
    "print('Score with all features: {:.3f}'.format(lr.score(X_test, y_test)))\n",
    "\n",
    "lr.fit(X_train_selected, y_train)\n",
    "print('Score with only selected features: {:.3f}'.format(lr.score(X_test_selected, y_test)))"
   ]
  },
  {
   "cell_type": "code",
   "execution_count": 86,
   "metadata": {},
   "outputs": [
    {
     "data": {
      "text/html": [
       "<div>\n",
       "<style scoped>\n",
       "    .dataframe tbody tr th:only-of-type {\n",
       "        vertical-align: middle;\n",
       "    }\n",
       "\n",
       "    .dataframe tbody tr th {\n",
       "        vertical-align: top;\n",
       "    }\n",
       "\n",
       "    .dataframe thead th {\n",
       "        text-align: right;\n",
       "    }\n",
       "</style>\n",
       "<table border=\"1\" class=\"dataframe\">\n",
       "  <thead>\n",
       "    <tr style=\"text-align: right;\">\n",
       "      <th></th>\n",
       "      <th>CheckoutType</th>\n",
       "      <th>MaterialType</th>\n",
       "      <th>CheckoutYear</th>\n",
       "      <th>CheckoutMonth</th>\n",
       "      <th>Checkouts</th>\n",
       "      <th>Title</th>\n",
       "      <th>Creator</th>\n",
       "      <th>Subjects</th>\n",
       "      <th>Publisher</th>\n",
       "      <th>PublicationYear</th>\n",
       "      <th>_Season</th>\n",
       "      <th>_check_eq_publ</th>\n",
       "    </tr>\n",
       "  </thead>\n",
       "  <tbody>\n",
       "    <tr>\n",
       "      <th>0</th>\n",
       "      <td>0.0</td>\n",
       "      <td>0.625</td>\n",
       "      <td>0.928571</td>\n",
       "      <td>0.090909</td>\n",
       "      <td>0.0</td>\n",
       "      <td>0.741675</td>\n",
       "      <td>0.874214</td>\n",
       "      <td>0.921821</td>\n",
       "      <td>0.907697</td>\n",
       "      <td>1.0</td>\n",
       "      <td>1.000000</td>\n",
       "      <td>0.0</td>\n",
       "    </tr>\n",
       "    <tr>\n",
       "      <th>1</th>\n",
       "      <td>0.0</td>\n",
       "      <td>0.625</td>\n",
       "      <td>0.857143</td>\n",
       "      <td>0.545455</td>\n",
       "      <td>0.0</td>\n",
       "      <td>0.535623</td>\n",
       "      <td>0.234412</td>\n",
       "      <td>0.921821</td>\n",
       "      <td>0.907697</td>\n",
       "      <td>1.0</td>\n",
       "      <td>0.666667</td>\n",
       "      <td>0.0</td>\n",
       "    </tr>\n",
       "  </tbody>\n",
       "</table>\n",
       "</div>"
      ],
      "text/plain": [
       "   CheckoutType  MaterialType  CheckoutYear  CheckoutMonth  Checkouts  \\\n",
       "0           0.0         0.625      0.928571       0.090909        0.0   \n",
       "1           0.0         0.625      0.857143       0.545455        0.0   \n",
       "\n",
       "      Title   Creator  Subjects  Publisher  PublicationYear   _Season  \\\n",
       "0  0.741675  0.874214  0.921821   0.907697              1.0  1.000000   \n",
       "1  0.535623  0.234412  0.921821   0.907697              1.0  0.666667   \n",
       "\n",
       "   _check_eq_publ  \n",
       "0             0.0  \n",
       "1             0.0  "
      ]
     },
     "execution_count": 86,
     "metadata": {},
     "output_type": "execute_result"
    }
   ],
   "source": [
    "# Create a copy of the normalized DF (X)\n",
    "\n",
    "X2 = X.copy(deep=True)\n",
    "X2.head(2)"
   ]
  },
  {
   "cell_type": "code",
   "execution_count": 87,
   "metadata": {},
   "outputs": [],
   "source": [
    "# Drop noninformative features\n",
    "\n",
    "X2.drop(columns=['MaterialType', 'CheckoutMonth', 'Checkouts', 'Title', 'Publisher','_Season'], axis=1, inplace=True)"
   ]
  },
  {
   "cell_type": "code",
   "execution_count": 88,
   "metadata": {},
   "outputs": [
    {
     "data": {
      "text/html": [
       "<div>\n",
       "<style scoped>\n",
       "    .dataframe tbody tr th:only-of-type {\n",
       "        vertical-align: middle;\n",
       "    }\n",
       "\n",
       "    .dataframe tbody tr th {\n",
       "        vertical-align: top;\n",
       "    }\n",
       "\n",
       "    .dataframe thead th {\n",
       "        text-align: right;\n",
       "    }\n",
       "</style>\n",
       "<table border=\"1\" class=\"dataframe\">\n",
       "  <thead>\n",
       "    <tr style=\"text-align: right;\">\n",
       "      <th></th>\n",
       "      <th>CheckoutType</th>\n",
       "      <th>CheckoutYear</th>\n",
       "      <th>Creator</th>\n",
       "      <th>Subjects</th>\n",
       "      <th>PublicationYear</th>\n",
       "      <th>_check_eq_publ</th>\n",
       "    </tr>\n",
       "  </thead>\n",
       "  <tbody>\n",
       "    <tr>\n",
       "      <th>0</th>\n",
       "      <td>0.0</td>\n",
       "      <td>0.928571</td>\n",
       "      <td>0.874214</td>\n",
       "      <td>0.921821</td>\n",
       "      <td>1.0</td>\n",
       "      <td>0.0</td>\n",
       "    </tr>\n",
       "    <tr>\n",
       "      <th>1</th>\n",
       "      <td>0.0</td>\n",
       "      <td>0.857143</td>\n",
       "      <td>0.234412</td>\n",
       "      <td>0.921821</td>\n",
       "      <td>1.0</td>\n",
       "      <td>0.0</td>\n",
       "    </tr>\n",
       "  </tbody>\n",
       "</table>\n",
       "</div>"
      ],
      "text/plain": [
       "   CheckoutType  CheckoutYear   Creator  Subjects  PublicationYear  \\\n",
       "0           0.0      0.928571  0.874214  0.921821              1.0   \n",
       "1           0.0      0.857143  0.234412  0.921821              1.0   \n",
       "\n",
       "   _check_eq_publ  \n",
       "0             0.0  \n",
       "1             0.0  "
      ]
     },
     "execution_count": 88,
     "metadata": {},
     "output_type": "execute_result"
    }
   ],
   "source": [
    "X2.head(2)"
   ]
  },
  {
   "cell_type": "markdown",
   "metadata": {},
   "source": [
    "\n",
    "## Logistic Regression"
   ]
  },
  {
   "cell_type": "code",
   "execution_count": 89,
   "metadata": {},
   "outputs": [],
   "source": [
    "X_train, X_test, y_train, y_test = train_test_split(X2, y, test_size=0.25)"
   ]
  },
  {
   "cell_type": "code",
   "execution_count": 90,
   "metadata": {},
   "outputs": [
    {
     "data": {
      "text/plain": [
       "LogisticRegression(C=1000000000000.0, class_weight=None, dual=False,\n",
       "          fit_intercept=False, intercept_scaling=1, max_iter=100,\n",
       "          multi_class='warn', n_jobs=None, penalty='l2', random_state=None,\n",
       "          solver='warn', tol=0.0001, verbose=0, warm_start=False)"
      ]
     },
     "execution_count": 90,
     "metadata": {},
     "output_type": "execute_result"
    }
   ],
   "source": [
    "# Train \n",
    "logreg = LogisticRegression(fit_intercept=False, C=1e12)    \n",
    "model_log = logreg.fit(X_train, y_train)\n",
    "model_log"
   ]
  },
  {
   "cell_type": "code",
   "execution_count": 91,
   "metadata": {},
   "outputs": [],
   "source": [
    "# Predict\n",
    "train_pred = logreg.predict(X_train)\n",
    "test_pred = logreg.predict(X_test)"
   ]
  },
  {
   "cell_type": "code",
   "execution_count": 92,
   "metadata": {},
   "outputs": [
    {
     "name": "stdout",
     "output_type": "stream",
     "text": [
      "Logistic Regression Model Results\n",
      "----------------------------------\n",
      "Training Accuracy: 81.87%\n",
      "Test Accuracy:     81.7%\n"
     ]
    }
   ],
   "source": [
    "# Evaluation\n",
    "\n",
    "train_acc_logreg = accuracy_score(y_train, train_pred)\n",
    "test_acc_logreg = accuracy_score(y_test, test_pred)\n",
    "report_logreg = classification_report(y_test, test_pred)\n",
    "\n",
    "print('Logistic Regression Model Results')\n",
    "print('----------------------------------')\n",
    "print(f'Training Accuracy: {(train_acc_logreg * 100):.4}%')\n",
    "print(f'Test Accuracy:     {(test_acc_logreg * 100):.4}%')"
   ]
  },
  {
   "cell_type": "code",
   "execution_count": 31,
   "metadata": {},
   "outputs": [],
   "source": [
    "import seaborn as sns\n",
    "from sklearn.metrics import confusion_matrix"
   ]
  },
  {
   "cell_type": "code",
   "execution_count": 95,
   "metadata": {},
   "outputs": [
    {
     "data": {
      "image/png": "[encoded data removed]",
      "text/plain": [
       "<Figure size 432x288 with 2 Axes>"
      ]
     },
     "metadata": {
      "needs_background": "light"
     },
     "output_type": "display_data"
    }
   ],
   "source": [
    "cnf_matrix = confusion_matrix(test_pred, y_test)\n",
    "sns.heatmap(cnf_matrix, cmap=\"YlGnBu\", fmt='.16g', annot=True);"
   ]
  },
  {
   "cell_type": "markdown",
   "metadata": {},
   "source": [
    "## Support Vector Machine"
   ]
  },
  {
   "cell_type": "code",
   "execution_count": 106,
   "metadata": {},
   "outputs": [],
   "source": [
    "from sklearn import svm\n",
    "import seaborn as sns"
   ]
  },
  {
   "cell_type": "code",
   "execution_count": 109,
   "metadata": {},
   "outputs": [],
   "source": [
    "svm = svm.SVC(kernel='linear', class_weight='balanced', C=1.0, random_state=0)\n",
    "\n",
    "svm.fit(X_train, y_train)\n",
    "\n",
    "svm_train_preds = svm.predict(X_train)\n",
    "svm_test_preds = svm.predict(X_test)\n",
    "\n",
    "train_accuracy_svm = accuracy_score(y_train, svm_train_preds)\n",
    "test_accuracy_svm = accuracy_score(y_test, svm_test_preds)\n",
    "report_svm = classification_report(y_test, svm_test_preds)"
   ]
  },
  {
   "cell_type": "code",
   "execution_count": 110,
   "metadata": {},
   "outputs": [
    {
     "name": "stdout",
     "output_type": "stream",
     "text": [
      "Training Accuracy: 76.05%\n",
      "Test Accuracy:     75.78%\n"
     ]
    }
   ],
   "source": [
    "print(f\"Training Accuracy: {(train_accuracy_svm * 100):.4}%\")\n",
    "print(f\"Test Accuracy:     {(test_accuracy_svm * 100):.4}%\")"
   ]
  },
  {
   "cell_type": "code",
   "execution_count": 111,
   "metadata": {},
   "outputs": [
    {
     "data": {
      "image/png": "[encoded data removed]",
      "text/plain": [
       "<Figure size 432x288 with 2 Axes>"
      ]
     },
     "metadata": {
      "needs_background": "light"
     },
     "output_type": "display_data"
    }
   ],
   "source": [
    "svm_matrix = confusion_matrix(svm_test_preds, y_test)\n",
    "sns.heatmap(svm_matrix, cmap=\"YlGnBu\", fmt='.16g', annot=True);"
   ]
  },
  {
   "cell_type": "markdown",
   "metadata": {},
   "source": [
    "## KNN"
   ]
  },
  {
   "cell_type": "code",
   "execution_count": 112,
   "metadata": {},
   "outputs": [],
   "source": [
    "from sklearn.neighbors import KNeighborsClassifier"
   ]
  },
  {
   "cell_type": "code",
   "execution_count": 132,
   "metadata": {},
   "outputs": [],
   "source": [
    "neigh = KNeighborsClassifier(algorithm='auto', weights='distance')\n",
    "\n",
    "neigh.fit(X_train, y_train)\n",
    "\n",
    "neigh_train_preds = neigh.predict(X_train)\n",
    "neigh_test_preds = neigh.predict(X_test)\n",
    "\n",
    "neigh_accuracy = accuracy_score(y_train, neigh_train_preds)\n",
    "neigh_accuracy = accuracy_score(y_test, neigh_test_preds)\n",
    "report_neigh = classification_report(y_test, neigh_test_preds)"
   ]
  },
  {
   "cell_type": "code",
   "execution_count": 133,
   "metadata": {},
   "outputs": [
    {
     "name": "stdout",
     "output_type": "stream",
     "text": [
      "Training Accuracy: 100.0%\n",
      "Test Accuracy:     100.0%\n"
     ]
    }
   ],
   "source": [
    "print(f\"Training Accuracy: {(neigh_accuracy * 100):.4}%\")\n",
    "print(f\"Test Accuracy:     {(neigh_accuracy * 100):.4}%\")"
   ]
  },
  {
   "cell_type": "markdown",
   "metadata": {},
   "source": [
    "Accuracy can be misleading, there is a large class imbalance in this set, these models predicted the value of the majority class for all predictions and achieve a high classification accuracy or an accuracy of 100%, the problem is that they are not useful for our domain."
   ]
  },
  {
   "cell_type": "markdown",
   "metadata": {},
   "source": [
    "## Class Imbalance\n",
    "#### Oversampling UsageClass feature\n",
    "\n",
    "More balanced predictions are made when oversampling (making copies of the minority class)\n"
   ]
  },
  {
   "cell_type": "code",
   "execution_count": 96,
   "metadata": {},
   "outputs": [],
   "source": [
    "from imblearn.over_sampling import SMOTE"
   ]
  },
  {
   "cell_type": "code",
   "execution_count": 115,
   "metadata": {},
   "outputs": [
    {
     "name": "stdout",
     "output_type": "stream",
     "text": [
      "1    80539\n",
      "0    19461\n",
      "Name: UsageClass, dtype: int64\n",
      "1    60389\n",
      "0    60389\n",
      "dtype: int64\n"
     ]
    }
   ],
   "source": [
    "# previous class distribution\n",
    "print(df_encoded['UsageClass'].value_counts()) \n",
    "\n",
    "# resample data ONLY using training data\n",
    "X_resampled, y_resampled = SMOTE().fit_sample(X_train, y_train) \n",
    "\n",
    "# synthetic sample class distribution\n",
    "print(pd.Series(y_resampled).value_counts())"
   ]
  },
  {
   "cell_type": "code",
   "execution_count": 116,
   "metadata": {},
   "outputs": [],
   "source": [
    "X_train, X_test, y_train, y_test = train_test_split(X_resampled, y_resampled, random_state=0)"
   ]
  },
  {
   "cell_type": "markdown",
   "metadata": {},
   "source": [
    "\n",
    "## Logistic Regression"
   ]
  },
  {
   "cell_type": "code",
   "execution_count": 117,
   "metadata": {},
   "outputs": [
    {
     "name": "stdout",
     "output_type": "stream",
     "text": [
      "Logistic Regression with balanced classes\n",
      "------------------------\n",
      "Training Accuracy: 77.91%\n",
      "Test Accuracy:     77.91%\n"
     ]
    }
   ],
   "source": [
    "logreg2 = LogisticRegression()\n",
    "\n",
    "# train\n",
    "logreg2.fit(X_train, y_train)\n",
    "\n",
    "# predict\n",
    "train_preds = logreg2.predict(X_train)\n",
    "test_preds = logreg2.predict(X_test)\n",
    "\n",
    "# evaluate\n",
    "train_accuracy_logreg2 = accuracy_score(y_train, train_preds)\n",
    "test_accuracy_logreg2 = accuracy_score(y_test, test_preds)\n",
    "report_logreg2 = classification_report(y_test, test_preds)\n",
    "\n",
    "print(\"Logistic Regression with balanced classes\")\n",
    "print(\"------------------------\")\n",
    "print(f\"Training Accuracy: {(train_accuracy_logreg2 * 100):.4}%\")\n",
    "print(f\"Test Accuracy:     {(test_accuracy_logreg2 * 100):.4}%\")"
   ]
  },
  {
   "cell_type": "code",
   "execution_count": 118,
   "metadata": {},
   "outputs": [
    {
     "data": {
      "image/png": "[encoded data removed]",
      "text/plain": [
       "<Figure size 432x288 with 2 Axes>"
      ]
     },
     "metadata": {
      "needs_background": "light"
     },
     "output_type": "display_data"
    }
   ],
   "source": [
    "cnf_matrix = confusion_matrix(test_preds, y_test)\n",
    "sns.heatmap(cnf_matrix, cmap=\"YlGnBu\", fmt='.16g', annot=True);"
   ]
  },
  {
   "cell_type": "markdown",
   "metadata": {},
   "source": [
    "## Support Vector Machine"
   ]
  },
  {
   "cell_type": "code",
   "execution_count": 120,
   "metadata": {},
   "outputs": [
    {
     "name": "stdout",
     "output_type": "stream",
     "text": [
      "Training Accuracy: 84.52%\n",
      "Test Accuracy:     84.56%\n"
     ]
    }
   ],
   "source": [
    "from sklearn import svm\n",
    "\n",
    "svm = svm.SVC(kernel='linear', class_weight='balanced', C=1.0, random_state=0)\n",
    "\n",
    "svm.fit(X_train, y_train)\n",
    "\n",
    "svm_train_preds = svm.predict(X_train)\n",
    "svm_test_preds = svm.predict(X_test)\n",
    "\n",
    "train_accuracy_svm = accuracy_score(y_train, svm_train_preds)\n",
    "test_accuracy_svm = accuracy_score(y_test, svm_test_preds)\n",
    "report_svm = classification_report(y_test, svm_test_preds)\n",
    "\n",
    "print(f\"Training Accuracy: {(train_accuracy_svm * 100):.4}%\")\n",
    "print(f\"Test Accuracy:     {(test_accuracy_svm * 100):.4}%\")"
   ]
  },
  {
   "cell_type": "code",
   "execution_count": 121,
   "metadata": {},
   "outputs": [
    {
     "data": {
      "image/png": "[encoded data removed]",
      "text/plain": [
       "<Figure size 432x288 with 2 Axes>"
      ]
     },
     "metadata": {
      "needs_background": "light"
     },
     "output_type": "display_data"
    }
   ],
   "source": [
    "svm_matrix = confusion_matrix(svm_test_preds, y_test)\n",
    "sns.heatmap(svm_matrix, cmap=\"YlGnBu\", fmt='.16g', annot=True);"
   ]
  },
  {
   "cell_type": "markdown",
   "metadata": {},
   "source": [
    "## KNN"
   ]
  },
  {
   "cell_type": "code",
   "execution_count": 130,
   "metadata": {},
   "outputs": [
    {
     "name": "stdout",
     "output_type": "stream",
     "text": [
      "Training Accuracy: 100.0%\n",
      "Test Accuracy:     100.0%\n"
     ]
    }
   ],
   "source": [
    "neigh = KNeighborsClassifier(algorithm='auto', weights='distance')\n",
    "\n",
    "neigh.fit(X_train, y_train)\n",
    "\n",
    "neigh_train_preds = neigh.predict(X_train)\n",
    "neigh_test_preds = neigh.predict(X_test)\n",
    "\n",
    "neigh_accuracy = accuracy_score(y_train, neigh_train_preds)\n",
    "neigh_accuracy = accuracy_score(y_test, neigh_test_preds)\n",
    "report_neigh = classification_report(y_test, neigh_test_preds)\n",
    "\n",
    "print(f\"Training Accuracy: {(neigh_accuracy * 100):.4}%\")\n",
    "print(f\"Test Accuracy:     {(neigh_accuracy * 100):.4}%\")"
   ]
  },
  {
   "cell_type": "code",
   "execution_count": 131,
   "metadata": {},
   "outputs": [
    {
     "data": {
      "image/png": "[encoded data removed]",
      "text/plain": [
       "<Figure size 432x288 with 2 Axes>"
      ]
     },
     "metadata": {},
     "output_type": "display_data"
    }
   ],
   "source": [
    "knn_matrix = confusion_matrix(neigh_test_preds, y_test)\n",
    "sns.heatmap(knn_matrix, cmap=\"YlGnBu\", fmt='.16g', annot=True);"
   ]
  },
  {
   "cell_type": "markdown",
   "metadata": {},
   "source": [
    "\n",
    "### Classification Report Analysis\n",
    "\n",
    "Accuracy is not the metric to use when working with an imbalanced dataset. \n",
    "By looking at the following performance measures we can get more insight into the accuracy of the model than traditional classification accuracy:\n",
    "* Confusion Matrix: A breakdown of predictions showing the correct predictions (main diagonal) and the types of incorrect predictions made (anti diagonal).\n",
    "* Precision: A measure of a classifiers exactness.\n",
    "* Recall: A measure of a classifiers completeness\n",
    "* F1 Score (or F-score): A weighted average of precision and recall."
   ]
  },
  {
   "cell_type": "code",
   "execution_count": 134,
   "metadata": {},
   "outputs": [
    {
     "name": "stdout",
     "output_type": "stream",
     "text": [
      "Classification Report for Balanced LogReg\n",
      "              precision    recall  f1-score   support\n",
      "\n",
      "           0       0.76      0.81      0.78     15010\n",
      "           1       0.80      0.75      0.77     15185\n",
      "\n",
      "   micro avg       0.78      0.78      0.78     30195\n",
      "   macro avg       0.78      0.78      0.78     30195\n",
      "weighted avg       0.78      0.78      0.78     30195\n",
      "\n",
      "\n",
      " Classification Report for SVM Report:\n",
      "              precision    recall  f1-score   support\n",
      "\n",
      "           0       0.77      0.98      0.86     15010\n",
      "           1       0.97      0.71      0.82     15185\n",
      "\n",
      "   micro avg       0.85      0.85      0.85     30195\n",
      "   macro avg       0.87      0.85      0.84     30195\n",
      "weighted avg       0.87      0.85      0.84     30195\n",
      "\n",
      "\n",
      " Classification Report for KNN Report:\n",
      "              precision    recall  f1-score   support\n",
      "\n",
      "           0       1.00      1.00      1.00     15010\n",
      "           1       1.00      1.00      1.00     15185\n",
      "\n",
      "   micro avg       1.00      1.00      1.00     30195\n",
      "   macro avg       1.00      1.00      1.00     30195\n",
      "weighted avg       1.00      1.00      1.00     30195\n",
      "\n"
     ]
    }
   ],
   "source": [
    "print('Classification Report for Balanced LogReg')\n",
    "print(report_logreg2)\n",
    "print('\\n Classification Report for SVM Report:')\n",
    "print(report_svm)\n",
    "print('\\n Classification Report for KNN Report:')\n",
    "print(report_neigh)"
   ]
  },
  {
   "cell_type": "markdown",
   "metadata": {},
   "source": [
    "As we see in the report, Logistic Regression and SVM models do a better job classifying digital content, altought physical checkouts are the majority when looking at the inabalanced set. The KNN model is not a reliable source as it has a perfect classification.\n",
    "\n",
    "Let's look at the ROC Curves to have a better sence of the tradeoffs between true positives and false positive rates. "
   ]
  },
  {
   "cell_type": "markdown",
   "metadata": {},
   "source": [
    "## Performance metrics\n",
    "\n",
    "Two diagnostic tools that help in the interpretation of probabilistic forecast for binary (two-class) classification predictive modeling problems are ROC Curves and Precision-Recall curves. Since I already balanced the observations I will use the Receiver Operating Characteristic curve, <b>ROC</b>, to summarize the trade-off between the true positive rate and false positive rate for a predictive model using different probability thresholds."
   ]
  },
  {
   "cell_type": "code",
   "execution_count": 127,
   "metadata": {},
   "outputs": [],
   "source": [
    "from sklearn.metrics import roc_curve, auc\n",
    "import matplotlib.pyplot as plt\n",
    "import seaborn as sns\n",
    "\n",
    "%matplotlib inline"
   ]
  },
  {
   "cell_type": "code",
   "execution_count": 160,
   "metadata": {},
   "outputs": [
    {
     "data": {
      "text/plain": [
       "<matplotlib.legend.Legend at 0x1a2071d518>"
      ]
     },
     "execution_count": 160,
     "metadata": {},
     "output_type": "execute_result"
    },
    {
     "data": {
      "image/png": "[encoded data removed]",
      "text/plain": [
       "<Figure size 1080x720 with 1 Axes>"
      ]
     },
     "metadata": {},
     "output_type": "display_data"
    }
   ],
   "source": [
    "plt.figure(figsize=(15,10))\n",
    "\n",
    "fpr_svm, tpr_svm, tresholds_svm = roc_curve(y_test, svm.decision_function(X_test))\n",
    "fpr_lr, tpr_lr, tresholds_lr = roc_curve(y_test, logreg2.predict_proba(X_test)[:, 1])\n",
    "\n",
    "#find the threshold closet to zero\n",
    "close_zero_lr = np.argmin(np.abs(tresholds_lr))\n",
    "close_zero_svm = np.argmin(np.abs(tresholds_svm))\n",
    "\n",
    "plt.plot(fpr_svm, tpr_svm, label='ROC Curve SVM')\n",
    "plt.plot(fpr_lr, tpr_lr, label='ROC Curve Logistic Regression')\n",
    "plt.plot([0, 1], [0, 1], color='navy', lw=lw, linestyle='--')\n",
    "\n",
    "plt.xlabel('FPR')\n",
    "plt.ylabel('TPR (recall)')\n",
    "plt.plot(fpr_lr[close_zero_lr], tpr_lr[close_zero_lr], 'o', markersize=10, label='Threshold Zero LR', color='darkorange')\n",
    "plt.plot(fpr_svm[close_zero_svm], tpr_lr[close_zero_svm], '^', markersize=10, label='Threshold Zero SVM', color='blue')\n",
    "\n",
    "plt.legend(loc=4)\n"
   ]
  },
  {
   "cell_type": "code",
   "execution_count": 158,
   "metadata": {},
   "outputs": [
    {
     "name": "stdout",
     "output_type": "stream",
     "text": [
      "AUC for Logistic Regression: 0.842273\n",
      "AUC for SVM: 0.710\n"
     ]
    }
   ],
   "source": [
    "from sklearn.metrics import roc_auc_score\n",
    "lr_auc = roc_auc_score(y_test, logreg2.predict_proba(X_test)[:, 1])\n",
    "svm_auc = roc_auc_score(y_test, svm.decision_function(X_test))\n",
    "print('AUC for Logistic Regression: {:3f}'.format(lr_auc))\n",
    "print('AUC for SVM: {:.3f}'.format(svm_auc))\n",
    "                        "
   ]
  },
  {
   "cell_type": "markdown",
   "metadata": {},
   "source": [
    "#### ROC curve for Logistic Regression train and test sets  "
   ]
  },
  {
   "cell_type": "code",
   "execution_count": 129,
   "metadata": {},
   "outputs": [
    {
     "name": "stdout",
     "output_type": "stream",
     "text": [
      "Test AUC: 0.8422726809061767\n",
      "Train AUC: 0.8406669279706113\n"
     ]
    },
    {
     "data": {
      "image/png": "[encoded data removed]",
      "text/plain": [
       "<Figure size 1080x720 with 1 Axes>"
      ]
     },
     "metadata": {},
     "output_type": "display_data"
    }
   ],
   "source": [
    "sns.set_style(\"darkgrid\", {\"axes.facecolor\": \".9\"})\n",
    "\n",
    "y_test_score = logreg2.decision_function(X_test)\n",
    "y_train_score = logreg2.decision_function(X_train)\n",
    "\n",
    "test_fpr, test_tpr, test_thresholds = roc_curve(y_test, y_test_score)\n",
    "train_fpr, train_tpr, train_thresholds = roc_curve(y_train, y_train_score)\n",
    "\n",
    "print('Test AUC: {}'.format(auc(test_fpr, test_tpr)))\n",
    "print('Train AUC: {}'.format(auc(train_fpr, train_tpr)))\n",
    "\n",
    "plt.figure(figsize=(15,10))\n",
    "lw = 2\n",
    "plt.plot(test_fpr, test_tpr, color='darkorange', lw=lw, label='Test ROC curve')\n",
    "plt.plot(train_fpr, train_tpr, color='blue',lw=lw, label='Train ROC curve')\n",
    "plt.plot([0, 1], [0, 1], color='navy', lw=lw, linestyle='--')\n",
    "\n",
    "plt.xlim([0.0, 1.0])\n",
    "plt.ylim([0.0, 1.05])\n",
    "\n",
    "plt.yticks([i/20.0 for i in range(21)])\n",
    "plt.xticks([i/20.0 for i in range(21)])\n",
    "\n",
    "plt.xlabel('False Positive Rate')\n",
    "plt.ylabel('True Positive Rate')\n",
    "plt.title('Receiver operating characteristic (ROC) Curve')\n",
    "plt.legend(loc=\"lower right\")\n",
    "\n",
    "plt.show()"
   ]
  },
  {
   "cell_type": "markdown",
   "metadata": {},
   "source": [
    "The ROC curve is a useful tool for a few reasons:\n",
    "\n",
    "The area under the curve (AUC) can be used as a summary of the model skill.\n",
    "\n",
    "The shape of the curve contains the expected false positive rate, and the false negative rate:\n",
    "\n",
    "* Smaller values on the x-axis of the plot indicate lower false positives and higher true negatives.\n",
    "* Larger values on the y-axis of the plot indicate higher true positives and lower false negatives."
   ]
  },
  {
   "cell_type": "code",
   "execution_count": null,
   "metadata": {},
   "outputs": [],
   "source": []
  },
  {
   "cell_type": "code",
   "execution_count": null,
   "metadata": {},
   "outputs": [],
   "source": []
  },
  {
   "cell_type": "code",
   "execution_count": null,
   "metadata": {},
   "outputs": [],
   "source": []
  },
  {
   "cell_type": "code",
   "execution_count": null,
   "metadata": {},
   "outputs": [],
   "source": []
  },
  {
   "cell_type": "code",
   "execution_count": null,
   "metadata": {},
   "outputs": [],
   "source": []
  },
  {
   "cell_type": "code",
   "execution_count": null,
   "metadata": {},
   "outputs": [],
   "source": []
  },
  {
   "cell_type": "code",
   "execution_count": null,
   "metadata": {},
   "outputs": [],
   "source": []
  },
  {
   "cell_type": "code",
   "execution_count": null,
   "metadata": {},
   "outputs": [],
   "source": []
  },
  {
   "cell_type": "code",
   "execution_count": null,
   "metadata": {},
   "outputs": [],
   "source": []
  },
  {
   "cell_type": "code",
   "execution_count": null,
   "metadata": {},
   "outputs": [],
   "source": []
  },
  {
   "cell_type": "code",
   "execution_count": null,
   "metadata": {},
   "outputs": [],
   "source": []
  },
  {
   "cell_type": "code",
   "execution_count": null,
   "metadata": {},
   "outputs": [],
   "source": []
  },
  {
   "cell_type": "code",
   "execution_count": null,
   "metadata": {},
   "outputs": [],
   "source": []
  },
  {
   "cell_type": "code",
   "execution_count": null,
   "metadata": {},
   "outputs": [],
   "source": []
  },
  {
   "cell_type": "code",
   "execution_count": null,
   "metadata": {},
   "outputs": [],
   "source": []
  },
  {
   "cell_type": "code",
   "execution_count": null,
   "metadata": {},
   "outputs": [],
   "source": []
  },
  {
   "cell_type": "code",
   "execution_count": null,
   "metadata": {},
   "outputs": [],
   "source": []
  },
  {
   "cell_type": "code",
   "execution_count": null,
   "metadata": {},
   "outputs": [],
   "source": []
  },
  {
   "cell_type": "code",
   "execution_count": null,
   "metadata": {},
   "outputs": [],
   "source": []
  }
 ],
 "metadata": {
  "kernelspec": {
   "display_name": "Python 3",
   "language": "python",
   "name": "python3"
  },
  "language_info": {
   "codemirror_mode": {
    "name": "ipython",
    "version": 3
   },
   "file_extension": ".py",
   "mimetype": "text/x-python",
   "name": "python",
   "nbconvert_exporter": "python",
   "pygments_lexer": "ipython3",
   "version": "3.7.2"
  }
 },
 "nbformat": 4,
 "nbformat_minor": 2
}
