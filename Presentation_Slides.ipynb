{
 "cells": [
  {
   "cell_type": "markdown",
   "metadata": {},
   "source": [
    "# Are E-Books Overtaking Printed Books at the SPL?"
   ]
  },
  {
   "cell_type": "markdown",
   "metadata": {
    "slideshow": {
     "slide_type": "slide"
    }
   },
   "source": [
    "This <a href='https://data.seattle.gov/Community/Checkouts-by-Title/tmmm-ytt6'>data set </a> is made available through the Open Data Program by the City of Seattle; it consists of monthly counts by title of checkout for all physical and digital items from 2005 to present from the Seattle Public Library. The set is updated at the beginning of each month; as of March 2019 it contained more than 33 million of entries with 11 columns. Each row is a checkout count with the following information: \n",
    "\n",
    "<br>\n",
    "\n",
    "<table style=\"width:80%\">\n",
    "  <tr>\n",
    "    <th>Column Name</th>\n",
    "    <th>Description</th> \n",
    "    <th>Data Type</th>\n",
    "  </tr>\n",
    "  <tr>\n",
    "    <td>UsageClass</td>\n",
    "    <td>Denotes if item is “physical” or “digital”</td>\n",
    "    <td>text</td>\n",
    "  </tr>\n",
    "  <tr>\n",
    "    <td>CheckoutType</td>\n",
    "    <td>Denotes the vendor tool used to check out the item</td>\n",
    "    <td>text</td>\n",
    "  </tr>\n",
    "  <tr>\n",
    "    <td>MaterialType</td>\n",
    "    <td>Describes the type of item checked out (examples: book, song movie, music, magazine)</td>\n",
    "    <td>text</td>\n",
    "  </tr>\n",
    "  <tr>\n",
    "    <td>CheckoutYear</td>\n",
    "    <td>The 4-digit year of checkout for this record</td>\n",
    "    <td>number</td>\n",
    "  </tr>\n",
    "    <tr>\n",
    "    <td>CheckoutMonth</td>\n",
    "    <td>The month of checkout for this record</td>\n",
    "    <td>number</td>\n",
    "  </tr>\n",
    "    <tr>\n",
    "    <td>Checkouts</td>\n",
    "    <td>A count of the number of times the title was checked out within the “Checkout Month”</td>\n",
    "    <td>number</td>\n",
    "  </tr>\n",
    "    <tr>\n",
    "    <td>Title</td>\n",
    "    <td>The full title and subtitle of an individual item</td>\n",
    "    <td>text</td>\n",
    "  </tr>\n",
    "    <tr>\n",
    "    <td>Creator</td>\n",
    "    <td>The author or entity responsible for authoring the item</td>\n",
    "    <td>text</td>\n",
    "  </tr>\n",
    "    <tr>\n",
    "    <td>Subjects</td>\n",
    "    <td>The subject of the item as it appears in the catalog</td>\n",
    "    <td>text</td>\n",
    "  </tr>\n",
    "    <tr>\n",
    "    <td>Publisher</td>\n",
    "    <td>The publisher of the title</td>\n",
    "    <td>text</td>\n",
    "  </tr>\n",
    "    <tr>\n",
    "    <td>PublicationYear</td>\n",
    "    <td>The year from the catalog record in which the item was published, printed, or copyrighted.</td>\n",
    "    <td>text</td>\n",
    "  </tr>\n",
    "</table>"
   ]
  },
  {
   "cell_type": "markdown",
   "metadata": {
    "slideshow": {
     "slide_type": "slide"
    }
   },
   "source": [
    "## Question: Are digital books challenging printed books in the Seattle Public Library?\n",
    "\n",
    "<p>The Seattle Public Library has been recording all digital and physical checkouts since April 2005 and has over 33.4 million of entries which get updated every month, the library also offers and promotes a wide collection of e-books and audiobooks that are available for multiple devices.</p>\n",
    "<p>With this analysis I compare and try to predict checkout formats for the SPL</p>  \n",
    "\n",
    "## Methodology\n",
    "\n",
    "OSEMiN\n",
    "\n",
    "<b>Obtain</b> Gather information, obtain the data.\n",
    "\n",
    "<b>Scrub</b> Clean, reduce noise, remove data that is not needed; check, remove or replace missing or null values, extract columns or format data types.\n",
    "\n",
    "<b>Explore</b> Set up the data, check for multicollinearity, make sure the dataset meets what is necessary for the type of model to apply later on.\n",
    "\n",
    "<b>Model</b> Implement supervised or unsupervised algorithms.\n",
    "\n",
    "<b>Interpret</b> Evaluate the results."
   ]
  },
  {
   "cell_type": "markdown",
   "metadata": {
    "slideshow": {
     "slide_type": "slide"
    }
   },
   "source": [
    "## Initial Findings\n",
    "Over the past decade digital content has made a valiant effort at catching up.\n",
    "<div>\n",
    "    <img src=\"Images/formats.png\">\n",
    "</div>"
   ]
  },
  {
   "cell_type": "markdown",
   "metadata": {
    "slideshow": {
     "slide_type": "slide"
    }
   },
   "source": [
    "<div>\n",
    "    <img src='Images/material_format.png'>\n",
    "</div>\n",
    "Sound Disc comes second with 3.87M of checkouts; e-books have been checkout 3.6M times."
   ]
  },
  {
   "cell_type": "markdown",
   "metadata": {
    "slideshow": {
     "slide_type": "slide"
    }
   },
   "source": [
    "<div>\n",
    "    <img src=\"Images/month_checkouts.png\">\n",
    "</div>\n",
    "Library users are constant for all months during the year"
   ]
  },
  {
   "cell_type": "markdown",
   "metadata": {
    "slideshow": {
     "slide_type": "slide"
    }
   },
   "source": [
    "### Most Checkout Titles in the last 6 months\n",
    "\n",
    "<img src=\"Images/Screen Shot 2019-04-17 at 5.36.12 PM.png\" width=400>\n",
    "<br>Becoming Michelle Obama was top of the list for the first two months of 2019"
   ]
  },
  {
   "cell_type": "markdown",
   "metadata": {
    "slideshow": {
     "slide_type": "slide"
    }
   },
   "source": [
    "<div>\n",
    "    <img src='Images/50_subjects.jpeg'>\n",
    "</div>\n",
    "\n",
    "<br> Juvenile Fiction makes number 6 in the list of the top 50, may be an indication that teenagers are still reading..."
   ]
  },
  {
   "cell_type": "markdown",
   "metadata": {
    "slideshow": {
     "slide_type": "slide"
    }
   },
   "source": [
    "### Most Checkout Authors\n",
    "<img src=\"Images/Screen Shot 2019-04-17 at 5.54.00 PM.png\" alt=\"Authors\">\n",
    "<br>James Patterson, Agatha Christie and Stephen King are top of the list!"
   ]
  },
  {
   "cell_type": "markdown",
   "metadata": {
    "slideshow": {
     "slide_type": "slide"
    }
   },
   "source": [
    "## Classification and Predictions\n",
    "\n",
    "Supervised learning is when we want to predict a certain outcome from a given input and the goal is to train a model that can make accurate predictions for new, never-seen before data. To answer the initial question of classifying digital and physical checkouts I have used a Logistic Regression model.\n",
    "\n",
    "The most important features that the classifier takes into account are:\n",
    "\n",
    "- <b>Checkout type:</b> the tool used to check out an item, the SPL has 5 different tools\n",
    " - Freegal: stream and download songs\n",
    " - OverDrive: access e-books and audiobooks\n",
    " - Horizon: information portal used by the library previously\n",
    " - Hoopla: stream movies or TV shows\n",
    " - Zinio: digital magazines\n",
    "- <b>Checkout year</b>\n",
    "- <b>Creator: </b>the author or entity responsible for authoring the item.\n",
    "- <b>Subjects: </b>there are over 788,000 different subjects.\n",
    "- <b>Publication year:</b> the year in which the item was published, printed, or copyrighted.\n",
    "- <b>_check_eq_publ:</b> this column describes if the title was checked out the same year it was published.\n"
   ]
  },
  {
   "cell_type": "markdown",
   "metadata": {
    "slideshow": {
     "slide_type": "slide"
    }
   },
   "source": [
    "### Counts of correct and incorrect classification\n",
    "\n",
    "To apply the algorithm I took a random sample from the original set with 'entries without replacement' to avoid choosing any entry more than once. The matrix below is a summary of prediction results on our classification problem.\n",
    "\n",
    "<br><img src=\"Images/Screen Shot 2019-04-17 at 6.25.49 PM.png\" alt=\"Authors\">\n",
    "\n",
    "* Total number of digital counts (0) is 15,010\n",
    "* Total number of physical counts (1) is 15,185\n",
    "* Correct values predicted by the model: 25,533 \n",
    "* More errors were made by predicting physical counts (4,633) than predicting digital counts (299)"
   ]
  },
  {
   "cell_type": "markdown",
   "metadata": {
    "slideshow": {
     "slide_type": "slide"
    }
   },
   "source": [
    "## Conclusions and Recomendations\n",
    "\n",
    "* Printed books remain the most popular means of reading.\n",
    "* The model can predict digital counts slightly better.\n",
    "* The data schema needs to be reorganized. \n",
    "    * There are more than 788 thousand subjects which can be reduce to a smaller number of categories. \n",
    "    * Duplicates made due to possible manual entries: William Shakespeare, Shakespeare William, Shakespeare.  \n",
    "    \n",
    "### Future work\n",
    "* Since the author and creator columns have many duplicates, I'd like to manipulate those strings to find the most common names and get a better sense of these entries.\n",
    "* Make a different target and apply other algorithms.    "
   ]
  },
  {
   "cell_type": "markdown",
   "metadata": {
    "slideshow": {
     "slide_type": "slide"
    }
   },
   "source": [
    "### Thank you"
   ]
  },
  {
   "cell_type": "markdown",
   "metadata": {
    "slideshow": {
     "slide_type": "skip"
    }
   },
   "source": [
    "## Sources\n",
    "\n",
    "* https://towardsdatascience.com/understanding-feature-engineering-part-2-categorical-data-f54324193e63\n",
    "* https://stackoverflow.com/questions/48697770/xgboost-model-consistently-obtaining-100-accuracy\n",
    "* https://machinelearningmastery.com/tactics-to-combat-imbalanced-classes-in-your-machine-learning-dataset/\n",
    "* https://machinelearningmastery.com/classification-accuracy-is-not-enough-more-performance-measures-you-can-use/\n",
    "* https://stats.stackexchange.com/questions/369428/deciding-between-get-dummies-and-labelencoder-for-categorical-variables-in-a-lin\n",
    "* https://discuss.analyticsvidhya.com/t/label-encoding-vs-one-hot-encoding-in-machine-learning-model/7411\n",
    "* https://www.analyticsvidhya.com/blog/2016/03/complete-guide-parameter-tuning-xgboost-with-codes-python/\n",
    "* https://stackoverflow.com/questions/22137723/convert-number-strings-with-commas-in-pandas-dataframe-to-float\n",
    "* https://realpython.com/python-data-cleaning-numpy-pandas/\n",
    "* Andreas C. Müller & Sarah Guido. Introduction to Machine learning with Python. 2017\n",
    "* Jake VanderPlas. Python Data Science Handbook. 2016"
   ]
  },
  {
   "cell_type": "code",
   "execution_count": null,
   "metadata": {
    "slideshow": {
     "slide_type": "skip"
    }
   },
   "outputs": [],
   "source": [
    "jupyter nbconvert slideshow.ipynb --to slides --post serve"
   ]
  }
 ],
 "metadata": {
  "celltoolbar": "Slideshow",
  "kernelspec": {
   "display_name": "Python 3",
   "language": "python",
   "name": "python3"
  },
  "language_info": {
   "codemirror_mode": {
    "name": "ipython",
    "version": 3
   },
   "file_extension": ".py",
   "mimetype": "text/x-python",
   "name": "python",
   "nbconvert_exporter": "python",
   "pygments_lexer": "ipython3",
   "version": "3.7.2"
  }
 },
 "nbformat": 4,
 "nbformat_minor": 2
}
