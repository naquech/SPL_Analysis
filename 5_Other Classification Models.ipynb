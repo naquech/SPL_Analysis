{
 "cells": [
  {
   "cell_type": "markdown",
   "metadata": {},
   "source": [
    "# Base Line Model Comparison"
   ]
  },
  {
   "cell_type": "code",
   "execution_count": 1,
   "metadata": {},
   "outputs": [],
   "source": [
    "import pandas as pd\n",
    "import numpy as np\n",
    "\n",
    "import warnings\n",
    "warnings.filterwarnings('ignore')"
   ]
  },
  {
   "cell_type": "code",
   "execution_count": 9,
   "metadata": {},
   "outputs": [
    {
     "data": {
      "text/html": [
       "<div>\n",
       "<style scoped>\n",
       "    .dataframe tbody tr th:only-of-type {\n",
       "        vertical-align: middle;\n",
       "    }\n",
       "\n",
       "    .dataframe tbody tr th {\n",
       "        vertical-align: top;\n",
       "    }\n",
       "\n",
       "    .dataframe thead th {\n",
       "        text-align: right;\n",
       "    }\n",
       "</style>\n",
       "<table border=\"1\" class=\"dataframe\">\n",
       "  <thead>\n",
       "    <tr style=\"text-align: right;\">\n",
       "      <th></th>\n",
       "      <th>UsageClass</th>\n",
       "      <th>CheckoutType</th>\n",
       "      <th>MaterialType</th>\n",
       "      <th>CheckoutYear</th>\n",
       "      <th>CheckoutMonth</th>\n",
       "      <th>Checkouts</th>\n",
       "      <th>Title</th>\n",
       "      <th>Creator</th>\n",
       "      <th>Subjects</th>\n",
       "      <th>Publisher</th>\n",
       "      <th>PublicationYear</th>\n",
       "      <th>_Season</th>\n",
       "      <th>_check_eq_publ</th>\n",
       "    </tr>\n",
       "  </thead>\n",
       "  <tbody>\n",
       "    <tr>\n",
       "      <th>0</th>\n",
       "      <td>Digital</td>\n",
       "      <td>Freegal</td>\n",
       "      <td>SONG</td>\n",
       "      <td>2018</td>\n",
       "      <td>2</td>\n",
       "      <td>1</td>\n",
       "      <td>The Music Of The Night</td>\n",
       "      <td>Susan Boyle feat. Michael Crawford</td>\n",
       "      <td>Unknown</td>\n",
       "      <td>Unknown</td>\n",
       "      <td>9999</td>\n",
       "      <td>Winter</td>\n",
       "      <td>No</td>\n",
       "    </tr>\n",
       "    <tr>\n",
       "      <th>1</th>\n",
       "      <td>Digital</td>\n",
       "      <td>Freegal</td>\n",
       "      <td>SONG</td>\n",
       "      <td>2017</td>\n",
       "      <td>7</td>\n",
       "      <td>1</td>\n",
       "      <td>Opaline</td>\n",
       "      <td>Dishwalla</td>\n",
       "      <td>Unknown</td>\n",
       "      <td>Unknown</td>\n",
       "      <td>9999</td>\n",
       "      <td>Summer</td>\n",
       "      <td>No</td>\n",
       "    </tr>\n",
       "  </tbody>\n",
       "</table>\n",
       "</div>"
      ],
      "text/plain": [
       "  UsageClass CheckoutType MaterialType  CheckoutYear  CheckoutMonth  \\\n",
       "0    Digital      Freegal         SONG          2018              2   \n",
       "1    Digital      Freegal         SONG          2017              7   \n",
       "\n",
       "   Checkouts                   Title                             Creator  \\\n",
       "0          1  The Music Of The Night  Susan Boyle feat. Michael Crawford   \n",
       "1          1                 Opaline                           Dishwalla   \n",
       "\n",
       "  Subjects Publisher  PublicationYear _Season _check_eq_publ  \n",
       "0  Unknown   Unknown             9999  Winter             No  \n",
       "1  Unknown   Unknown             9999  Summer             No  "
      ]
     },
     "execution_count": 9,
     "metadata": {},
     "output_type": "execute_result"
    }
   ],
   "source": [
    "data = pd.read_csv('Data/sampleDF.csv')\n",
    "data.head(2)"
   ]
  },
  {
   "cell_type": "code",
   "execution_count": 10,
   "metadata": {},
   "outputs": [
    {
     "data": {
      "text/plain": [
       "Physical    80539\n",
       "Digital     19461\n",
       "Name: UsageClass, dtype: int64"
      ]
     },
     "execution_count": 10,
     "metadata": {},
     "output_type": "execute_result"
    }
   ],
   "source": [
    "data.UsageClass.value_counts()"
   ]
  },
  {
   "cell_type": "code",
   "execution_count": 4,
   "metadata": {},
   "outputs": [],
   "source": [
    "from sklearn import preprocessing"
   ]
  },
  {
   "cell_type": "code",
   "execution_count": 5,
   "metadata": {},
   "outputs": [],
   "source": [
    "#Function to label encode categories in a Dataframe\n",
    "\n",
    "def encode_features(df):\n",
    "    result = df.copy()\n",
    "    encoders = {}\n",
    "    for column in result.columns:\n",
    "        if result.dtypes[column] == np.object:\n",
    "            encoders[column] = preprocessing.LabelEncoder()\n",
    "            result[column] = encoders[column].fit_transform(result[column])\n",
    "    return result, encoders"
   ]
  },
  {
   "cell_type": "code",
   "execution_count": 11,
   "metadata": {},
   "outputs": [
    {
     "data": {
      "text/html": [
       "<div>\n",
       "<style scoped>\n",
       "    .dataframe tbody tr th:only-of-type {\n",
       "        vertical-align: middle;\n",
       "    }\n",
       "\n",
       "    .dataframe tbody tr th {\n",
       "        vertical-align: top;\n",
       "    }\n",
       "\n",
       "    .dataframe thead th {\n",
       "        text-align: right;\n",
       "    }\n",
       "</style>\n",
       "<table border=\"1\" class=\"dataframe\">\n",
       "  <thead>\n",
       "    <tr style=\"text-align: right;\">\n",
       "      <th></th>\n",
       "      <th>UsageClass</th>\n",
       "      <th>CheckoutType</th>\n",
       "      <th>MaterialType</th>\n",
       "      <th>CheckoutYear</th>\n",
       "      <th>CheckoutMonth</th>\n",
       "      <th>Checkouts</th>\n",
       "      <th>Title</th>\n",
       "      <th>Creator</th>\n",
       "      <th>Subjects</th>\n",
       "      <th>Publisher</th>\n",
       "      <th>PublicationYear</th>\n",
       "      <th>_Season</th>\n",
       "      <th>_check_eq_publ</th>\n",
       "    </tr>\n",
       "  </thead>\n",
       "  <tbody>\n",
       "    <tr>\n",
       "      <th>0</th>\n",
       "      <td>0</td>\n",
       "      <td>0</td>\n",
       "      <td>15</td>\n",
       "      <td>2018</td>\n",
       "      <td>2</td>\n",
       "      <td>1</td>\n",
       "      <td>67551</td>\n",
       "      <td>32401</td>\n",
       "      <td>58248</td>\n",
       "      <td>11309</td>\n",
       "      <td>9999</td>\n",
       "      <td>3</td>\n",
       "      <td>0</td>\n",
       "    </tr>\n",
       "    <tr>\n",
       "      <th>1</th>\n",
       "      <td>0</td>\n",
       "      <td>0</td>\n",
       "      <td>15</td>\n",
       "      <td>2017</td>\n",
       "      <td>7</td>\n",
       "      <td>1</td>\n",
       "      <td>48784</td>\n",
       "      <td>8688</td>\n",
       "      <td>58248</td>\n",
       "      <td>11309</td>\n",
       "      <td>9999</td>\n",
       "      <td>2</td>\n",
       "      <td>0</td>\n",
       "    </tr>\n",
       "    <tr>\n",
       "      <th>2</th>\n",
       "      <td>1</td>\n",
       "      <td>2</td>\n",
       "      <td>18</td>\n",
       "      <td>2013</td>\n",
       "      <td>5</td>\n",
       "      <td>1</td>\n",
       "      <td>26636</td>\n",
       "      <td>23197</td>\n",
       "      <td>44689</td>\n",
       "      <td>1905</td>\n",
       "      <td>9999</td>\n",
       "      <td>1</td>\n",
       "      <td>0</td>\n",
       "    </tr>\n",
       "    <tr>\n",
       "      <th>3</th>\n",
       "      <td>1</td>\n",
       "      <td>2</td>\n",
       "      <td>2</td>\n",
       "      <td>2006</td>\n",
       "      <td>7</td>\n",
       "      <td>1</td>\n",
       "      <td>20272</td>\n",
       "      <td>27240</td>\n",
       "      <td>58248</td>\n",
       "      <td>7542</td>\n",
       "      <td>9999</td>\n",
       "      <td>2</td>\n",
       "      <td>0</td>\n",
       "    </tr>\n",
       "    <tr>\n",
       "      <th>4</th>\n",
       "      <td>1</td>\n",
       "      <td>2</td>\n",
       "      <td>2</td>\n",
       "      <td>2015</td>\n",
       "      <td>4</td>\n",
       "      <td>2</td>\n",
       "      <td>3782</td>\n",
       "      <td>8508</td>\n",
       "      <td>53849</td>\n",
       "      <td>4830</td>\n",
       "      <td>2010</td>\n",
       "      <td>1</td>\n",
       "      <td>0</td>\n",
       "    </tr>\n",
       "  </tbody>\n",
       "</table>\n",
       "</div>"
      ],
      "text/plain": [
       "   UsageClass  CheckoutType  MaterialType  CheckoutYear  CheckoutMonth  \\\n",
       "0           0             0            15          2018              2   \n",
       "1           0             0            15          2017              7   \n",
       "2           1             2            18          2013              5   \n",
       "3           1             2             2          2006              7   \n",
       "4           1             2             2          2015              4   \n",
       "\n",
       "   Checkouts  Title  Creator  Subjects  Publisher  PublicationYear  _Season  \\\n",
       "0          1  67551    32401     58248      11309             9999        3   \n",
       "1          1  48784     8688     58248      11309             9999        2   \n",
       "2          1  26636    23197     44689       1905             9999        1   \n",
       "3          1  20272    27240     58248       7542             9999        2   \n",
       "4          2   3782     8508     53849       4830             2010        1   \n",
       "\n",
       "   _check_eq_publ  \n",
       "0               0  \n",
       "1               0  \n",
       "2               0  \n",
       "3               0  \n",
       "4               0  "
      ]
     },
     "execution_count": 11,
     "metadata": {},
     "output_type": "execute_result"
    }
   ],
   "source": [
    "df_encoded, _ = encode_features(data)\n",
    "df_encoded.head()"
   ]
  },
  {
   "cell_type": "markdown",
   "metadata": {},
   "source": [
    "### Define X and y"
   ]
  },
  {
   "cell_type": "code",
   "execution_count": 14,
   "metadata": {},
   "outputs": [
    {
     "data": {
      "text/html": [
       "<div>\n",
       "<style scoped>\n",
       "    .dataframe tbody tr th:only-of-type {\n",
       "        vertical-align: middle;\n",
       "    }\n",
       "\n",
       "    .dataframe tbody tr th {\n",
       "        vertical-align: top;\n",
       "    }\n",
       "\n",
       "    .dataframe thead th {\n",
       "        text-align: right;\n",
       "    }\n",
       "</style>\n",
       "<table border=\"1\" class=\"dataframe\">\n",
       "  <thead>\n",
       "    <tr style=\"text-align: right;\">\n",
       "      <th></th>\n",
       "      <th>CheckoutType</th>\n",
       "      <th>MaterialType</th>\n",
       "      <th>CheckoutYear</th>\n",
       "      <th>CheckoutMonth</th>\n",
       "      <th>Checkouts</th>\n",
       "      <th>Title</th>\n",
       "      <th>Creator</th>\n",
       "      <th>Subjects</th>\n",
       "      <th>Publisher</th>\n",
       "      <th>PublicationYear</th>\n",
       "      <th>_Season</th>\n",
       "      <th>_check_eq_publ</th>\n",
       "    </tr>\n",
       "  </thead>\n",
       "  <tbody>\n",
       "    <tr>\n",
       "      <th>0</th>\n",
       "      <td>0</td>\n",
       "      <td>15</td>\n",
       "      <td>2018</td>\n",
       "      <td>2</td>\n",
       "      <td>1</td>\n",
       "      <td>67551</td>\n",
       "      <td>32401</td>\n",
       "      <td>58248</td>\n",
       "      <td>11309</td>\n",
       "      <td>9999</td>\n",
       "      <td>3</td>\n",
       "      <td>0</td>\n",
       "    </tr>\n",
       "    <tr>\n",
       "      <th>1</th>\n",
       "      <td>0</td>\n",
       "      <td>15</td>\n",
       "      <td>2017</td>\n",
       "      <td>7</td>\n",
       "      <td>1</td>\n",
       "      <td>48784</td>\n",
       "      <td>8688</td>\n",
       "      <td>58248</td>\n",
       "      <td>11309</td>\n",
       "      <td>9999</td>\n",
       "      <td>2</td>\n",
       "      <td>0</td>\n",
       "    </tr>\n",
       "  </tbody>\n",
       "</table>\n",
       "</div>"
      ],
      "text/plain": [
       "   CheckoutType  MaterialType  CheckoutYear  CheckoutMonth  Checkouts  Title  \\\n",
       "0             0            15          2018              2          1  67551   \n",
       "1             0            15          2017              7          1  48784   \n",
       "\n",
       "   Creator  Subjects  Publisher  PublicationYear  _Season  _check_eq_publ  \n",
       "0    32401     58248      11309             9999        3               0  \n",
       "1     8688     58248      11309             9999        2               0  "
      ]
     },
     "execution_count": 14,
     "metadata": {},
     "output_type": "execute_result"
    }
   ],
   "source": [
    "X = df_encoded.iloc[:,1:13]\n",
    "X.head(2)"
   ]
  },
  {
   "cell_type": "code",
   "execution_count": 15,
   "metadata": {},
   "outputs": [],
   "source": [
    "y = df_encoded.UsageClass"
   ]
  },
  {
   "cell_type": "markdown",
   "metadata": {},
   "source": [
    "### Normalization"
   ]
  },
  {
   "cell_type": "code",
   "execution_count": 16,
   "metadata": {},
   "outputs": [
    {
     "data": {
      "text/html": [
       "<div>\n",
       "<style scoped>\n",
       "    .dataframe tbody tr th:only-of-type {\n",
       "        vertical-align: middle;\n",
       "    }\n",
       "\n",
       "    .dataframe tbody tr th {\n",
       "        vertical-align: top;\n",
       "    }\n",
       "\n",
       "    .dataframe thead th {\n",
       "        text-align: right;\n",
       "    }\n",
       "</style>\n",
       "<table border=\"1\" class=\"dataframe\">\n",
       "  <thead>\n",
       "    <tr style=\"text-align: right;\">\n",
       "      <th></th>\n",
       "      <th>CheckoutType</th>\n",
       "      <th>MaterialType</th>\n",
       "      <th>CheckoutYear</th>\n",
       "      <th>CheckoutMonth</th>\n",
       "      <th>Checkouts</th>\n",
       "      <th>Title</th>\n",
       "      <th>Creator</th>\n",
       "      <th>Subjects</th>\n",
       "      <th>Publisher</th>\n",
       "      <th>PublicationYear</th>\n",
       "      <th>_Season</th>\n",
       "      <th>_check_eq_publ</th>\n",
       "    </tr>\n",
       "  </thead>\n",
       "  <tbody>\n",
       "    <tr>\n",
       "      <th>0</th>\n",
       "      <td>0.0</td>\n",
       "      <td>0.625000</td>\n",
       "      <td>0.928571</td>\n",
       "      <td>0.090909</td>\n",
       "      <td>0.000000</td>\n",
       "      <td>0.741675</td>\n",
       "      <td>0.874214</td>\n",
       "      <td>0.921821</td>\n",
       "      <td>0.907697</td>\n",
       "      <td>1.000000</td>\n",
       "      <td>1.000000</td>\n",
       "      <td>0.0</td>\n",
       "    </tr>\n",
       "    <tr>\n",
       "      <th>1</th>\n",
       "      <td>0.0</td>\n",
       "      <td>0.625000</td>\n",
       "      <td>0.857143</td>\n",
       "      <td>0.545455</td>\n",
       "      <td>0.000000</td>\n",
       "      <td>0.535623</td>\n",
       "      <td>0.234412</td>\n",
       "      <td>0.921821</td>\n",
       "      <td>0.907697</td>\n",
       "      <td>1.000000</td>\n",
       "      <td>0.666667</td>\n",
       "      <td>0.0</td>\n",
       "    </tr>\n",
       "    <tr>\n",
       "      <th>2</th>\n",
       "      <td>0.5</td>\n",
       "      <td>0.750000</td>\n",
       "      <td>0.571429</td>\n",
       "      <td>0.363636</td>\n",
       "      <td>0.000000</td>\n",
       "      <td>0.292449</td>\n",
       "      <td>0.625880</td>\n",
       "      <td>0.707239</td>\n",
       "      <td>0.152902</td>\n",
       "      <td>1.000000</td>\n",
       "      <td>0.333333</td>\n",
       "      <td>0.0</td>\n",
       "    </tr>\n",
       "    <tr>\n",
       "      <th>3</th>\n",
       "      <td>0.5</td>\n",
       "      <td>0.083333</td>\n",
       "      <td>0.071429</td>\n",
       "      <td>0.545455</td>\n",
       "      <td>0.000000</td>\n",
       "      <td>0.222576</td>\n",
       "      <td>0.734965</td>\n",
       "      <td>0.921821</td>\n",
       "      <td>0.605346</td>\n",
       "      <td>1.000000</td>\n",
       "      <td>0.666667</td>\n",
       "      <td>0.0</td>\n",
       "    </tr>\n",
       "    <tr>\n",
       "      <th>4</th>\n",
       "      <td>0.5</td>\n",
       "      <td>0.083333</td>\n",
       "      <td>0.714286</td>\n",
       "      <td>0.272727</td>\n",
       "      <td>0.002439</td>\n",
       "      <td>0.041524</td>\n",
       "      <td>0.229555</td>\n",
       "      <td>0.852203</td>\n",
       "      <td>0.387672</td>\n",
       "      <td>0.020235</td>\n",
       "      <td>0.333333</td>\n",
       "      <td>0.0</td>\n",
       "    </tr>\n",
       "  </tbody>\n",
       "</table>\n",
       "</div>"
      ],
      "text/plain": [
       "   CheckoutType  MaterialType  CheckoutYear  CheckoutMonth  Checkouts  \\\n",
       "0           0.0      0.625000      0.928571       0.090909   0.000000   \n",
       "1           0.0      0.625000      0.857143       0.545455   0.000000   \n",
       "2           0.5      0.750000      0.571429       0.363636   0.000000   \n",
       "3           0.5      0.083333      0.071429       0.545455   0.000000   \n",
       "4           0.5      0.083333      0.714286       0.272727   0.002439   \n",
       "\n",
       "      Title   Creator  Subjects  Publisher  PublicationYear   _Season  \\\n",
       "0  0.741675  0.874214  0.921821   0.907697         1.000000  1.000000   \n",
       "1  0.535623  0.234412  0.921821   0.907697         1.000000  0.666667   \n",
       "2  0.292449  0.625880  0.707239   0.152902         1.000000  0.333333   \n",
       "3  0.222576  0.734965  0.921821   0.605346         1.000000  0.666667   \n",
       "4  0.041524  0.229555  0.852203   0.387672         0.020235  0.333333   \n",
       "\n",
       "   _check_eq_publ  \n",
       "0             0.0  \n",
       "1             0.0  \n",
       "2             0.0  \n",
       "3             0.0  \n",
       "4             0.0  "
      ]
     },
     "execution_count": 16,
     "metadata": {},
     "output_type": "execute_result"
    }
   ],
   "source": [
    "for col in X.columns:\n",
    "    X[col] = (X[col]-min(X[col]))/ (max(X[col]) - min(X[col]))\n",
    "\n",
    "X.head()"
   ]
  },
  {
   "cell_type": "markdown",
   "metadata": {},
   "source": [
    "## Train Test Split"
   ]
  },
  {
   "cell_type": "code",
   "execution_count": 17,
   "metadata": {},
   "outputs": [],
   "source": [
    "from sklearn.model_selection import train_test_split"
   ]
  },
  {
   "cell_type": "code",
   "execution_count": 18,
   "metadata": {},
   "outputs": [],
   "source": [
    "X_train, X_test, y_train, y_test = train_test_split(X, y, test_size=0.25)"
   ]
  },
  {
   "cell_type": "code",
   "execution_count": 19,
   "metadata": {},
   "outputs": [
    {
     "name": "stdout",
     "output_type": "stream",
     "text": [
      "1    60371\n",
      "0    14629\n",
      "Name: UsageClass, dtype: int64\n",
      "1    20168\n",
      "0     4832\n",
      "Name: UsageClass, dtype: int64\n"
     ]
    }
   ],
   "source": [
    "print(y_train.value_counts())\n",
    "print(y_test.value_counts())"
   ]
  },
  {
   "cell_type": "markdown",
   "metadata": {},
   "source": [
    "---------\n",
    "## Unbalanced Class"
   ]
  },
  {
   "cell_type": "markdown",
   "metadata": {},
   "source": [
    "### Random Forest"
   ]
  },
  {
   "cell_type": "code",
   "execution_count": 20,
   "metadata": {},
   "outputs": [],
   "source": [
    "from sklearn.ensemble import RandomForestClassifier\n",
    "from sklearn.model_selection import GridSearchCV\n",
    "\n",
    "from sklearn.metrics import accuracy_score, auc, classification_report, confusion_matrix, f1_score "
   ]
  },
  {
   "cell_type": "code",
   "execution_count": 21,
   "metadata": {},
   "outputs": [],
   "source": [
    "forest = RandomForestClassifier()"
   ]
  },
  {
   "cell_type": "code",
   "execution_count": 22,
   "metadata": {},
   "outputs": [
    {
     "name": "stdout",
     "output_type": "stream",
     "text": [
      "{'criterion': 'gini', 'max_depth': 5, 'max_features': 3, 'min_samples_split': 3, 'n_estimators': 80}\n"
     ]
    }
   ],
   "source": [
    "param_grid = {'n_estimators': [80, 100, 120],\n",
    "              'criterion': ['gini', 'entropy'],\n",
    "              'max_features': [3, 6, 8],         \n",
    "              'max_depth': [5, 8, 10], \n",
    "              'min_samples_split': [3,5,8]}\n",
    "\n",
    "forest_grid_search = GridSearchCV(forest, param_grid, cv=3, n_jobs=-1)\n",
    "forest_grid_search.fit(X_train, y_train)\n",
    "print(forest_grid_search.best_params_)"
   ]
  },
  {
   "cell_type": "code",
   "execution_count": 23,
   "metadata": {},
   "outputs": [],
   "source": [
    "# model with best parameters\n",
    "forest = RandomForestClassifier(n_estimators=80, criterion='gini', max_depth=5, max_features=3, min_samples_split=3)\n",
    "\n",
    "forest.fit(X_train, y_train)\n",
    "\n",
    "forest_train_preds = forest.predict(X_train)\n",
    "forest_test_preds = forest.predict(X_test)\n",
    "\n",
    "forest_train_accuracy = accuracy_score(y_train, forest_train_preds)\n",
    "forest_test_accuracy = accuracy_score(y_test, forest_test_preds)\n",
    "\n",
    "forest_report = classification_report(y_test, forest_test_preds)"
   ]
  },
  {
   "cell_type": "code",
   "execution_count": 24,
   "metadata": {},
   "outputs": [
    {
     "name": "stdout",
     "output_type": "stream",
     "text": [
      "Training Accuracy: 100.0%\n",
      "Test Accuracy:     100.0%\n"
     ]
    }
   ],
   "source": [
    "print(f\"Training Accuracy: {(forest_train_accuracy * 100):.4}%\")\n",
    "print(f\"Test Accuracy:     {(forest_test_accuracy * 100):.4}%\")"
   ]
  },
  {
   "cell_type": "markdown",
   "metadata": {},
   "source": [
    "### XGBoost"
   ]
  },
  {
   "cell_type": "code",
   "execution_count": 26,
   "metadata": {},
   "outputs": [],
   "source": [
    "import xgboost as xgb"
   ]
  },
  {
   "cell_type": "code",
   "execution_count": 27,
   "metadata": {},
   "outputs": [],
   "source": [
    "xgboost = xgb.XGBClassifier()"
   ]
  },
  {
   "cell_type": "code",
   "execution_count": 28,
   "metadata": {},
   "outputs": [
    {
     "name": "stdout",
     "output_type": "stream",
     "text": [
      "{'gamma': 0, 'learning_rate': 0.05, 'max_depth': 5, 'min_child_weight': 1, 'n_estimators': 50, 'scale_pos_weight': 1}\n"
     ]
    }
   ],
   "source": [
    "param_grid = {'n_estimators': [50, 100, 500],\n",
    "              'learning_rate': [0.05, 0.2], \n",
    "              'max_depth': [5, 8],\n",
    "              'gamma': [0],\n",
    "              'min_child_weight': [1],   # smaller value is chosen because it is a highly imbalanced class problem\n",
    "              'scale_pos_weight':[1]}    # high class imbalance\n",
    "\n",
    "xgb_grid_search = GridSearchCV(xgboost, param_grid, scoring='accuracy', cv=3, n_jobs=-1)\n",
    "xgb_grid_search.fit(X_train, y_train)\n",
    "\n",
    "print(xgb_grid_search.best_params_)"
   ]
  },
  {
   "cell_type": "code",
   "execution_count": 29,
   "metadata": {},
   "outputs": [],
   "source": [
    "# model with best parameters\n",
    "\n",
    "xgb_model = xgb.XGBClassifier(gamma=0, learning_rate=0.05, max_depth=5, min_child_weight=1, n_estimators=50, scale_pos_weight=1)\n",
    "\n",
    "xgb_model.fit(X_train, y_train)\n",
    "\n",
    "xgb_train_preds = xgb_model.predict(X_train)\n",
    "xgb_test_preds = xgb_model.predict(X_test)\n",
    "\n",
    "xgb_train_accuracy = accuracy_score(y_train, xgb_train_preds)\n",
    "xgb_test_accuracy = accuracy_score(y_test, xgb_test_preds)\n",
    "xgb_report = classification_report(y_test, xgb_test_preds)"
   ]
  },
  {
   "cell_type": "code",
   "execution_count": 30,
   "metadata": {},
   "outputs": [
    {
     "name": "stdout",
     "output_type": "stream",
     "text": [
      "Training Accuracy: 100.0%\n",
      "Test Accuracy:     100.0%\n"
     ]
    }
   ],
   "source": [
    "print(f\"Training Accuracy: {(xgb_train_accuracy * 100):.4}%\")\n",
    "print(f\"Test Accuracy:     {(xgb_test_accuracy * 100):.4}%\")"
   ]
  },
  {
   "cell_type": "markdown",
   "metadata": {},
   "source": [
    "### Support Vector Machine"
   ]
  },
  {
   "cell_type": "code",
   "execution_count": 31,
   "metadata": {},
   "outputs": [],
   "source": [
    "from sklearn import svm"
   ]
  },
  {
   "cell_type": "code",
   "execution_count": 32,
   "metadata": {},
   "outputs": [],
   "source": [
    "import seaborn as sns"
   ]
  },
  {
   "cell_type": "code",
   "execution_count": 33,
   "metadata": {},
   "outputs": [],
   "source": [
    "svm = svm.SVC(kernel='linear', class_weight='balanced', C=1.0, random_state=0)\n",
    "\n",
    "svm.fit(X_train, y_train)\n",
    "\n",
    "svm_train_preds = svm.predict(X_train)\n",
    "svm_test_preds = svm.predict(X_test)\n",
    "\n",
    "train_accuracy_svm = accuracy_score(y_train, svm_train_preds)\n",
    "test_accuracy_svm = accuracy_score(y_test, svm_test_preds)\n",
    "report_svm = classification_report(y_test, svm_test_preds)"
   ]
  },
  {
   "cell_type": "code",
   "execution_count": 34,
   "metadata": {},
   "outputs": [
    {
     "name": "stdout",
     "output_type": "stream",
     "text": [
      "Training Accuracy: 76.09%\n",
      "Test Accuracy:     75.58%\n"
     ]
    }
   ],
   "source": [
    "print(f\"Training Accuracy: {(train_accuracy_svm * 100):.4}%\")\n",
    "print(f\"Test Accuracy:     {(test_accuracy_svm * 100):.4}%\")"
   ]
  },
  {
   "cell_type": "code",
   "execution_count": 35,
   "metadata": {},
   "outputs": [
    {
     "name": "stdout",
     "output_type": "stream",
     "text": [
      "Classification Report for SVM\n",
      "              precision    recall  f1-score   support\n",
      "\n",
      "           0       0.44      0.97      0.61      4832\n",
      "           1       0.99      0.70      0.82     20168\n",
      "\n",
      "   micro avg       0.76      0.76      0.76     25000\n",
      "   macro avg       0.71      0.84      0.71     25000\n",
      "weighted avg       0.88      0.76      0.78     25000\n",
      "\n"
     ]
    }
   ],
   "source": [
    "print('Classification Report for SVM')\n",
    "print(report_svm)"
   ]
  },
  {
   "cell_type": "code",
   "execution_count": 36,
   "metadata": {},
   "outputs": [
    {
     "data": {
      "image/png": "[encoded data removed]",
      "text/plain": [
       "<Figure size 432x288 with 2 Axes>"
      ]
     },
     "metadata": {
      "needs_background": "light"
     },
     "output_type": "display_data"
    }
   ],
   "source": [
    "svm_matrix = confusion_matrix(svm_test_preds, y_test)\n",
    "sns.heatmap(svm_matrix, cmap=\"YlGnBu\", fmt='.16g', annot=True);"
   ]
  },
  {
   "cell_type": "markdown",
   "metadata": {},
   "source": [
    "### KNN"
   ]
  },
  {
   "cell_type": "code",
   "execution_count": 37,
   "metadata": {},
   "outputs": [],
   "source": [
    "from sklearn.neighbors import KNeighborsClassifier"
   ]
  },
  {
   "cell_type": "code",
   "execution_count": 38,
   "metadata": {},
   "outputs": [],
   "source": [
    "neigh = KNeighborsClassifier(algorithm='auto', weights='distance')\n",
    "\n",
    "neigh.fit(X_train, y_train)\n",
    "\n",
    "neigh_train_preds = svm.predict(X_train)\n",
    "neigh_test_preds = svm.predict(X_test)\n",
    "\n",
    "neigh_accuracy = accuracy_score(y_train, neigh_train_preds)\n",
    "neigh_accuracy = accuracy_score(y_test, neigh_test_preds)\n",
    "report_neigh = classification_report(y_test, neigh_test_preds)"
   ]
  },
  {
   "cell_type": "code",
   "execution_count": 39,
   "metadata": {},
   "outputs": [
    {
     "name": "stdout",
     "output_type": "stream",
     "text": [
      "Training Accuracy: 75.58%\n",
      "Test Accuracy:     75.58%\n"
     ]
    }
   ],
   "source": [
    "print(f\"Training Accuracy: {(neigh_accuracy * 100):.4}%\")\n",
    "print(f\"Test Accuracy:     {(neigh_accuracy * 100):.4}%\")"
   ]
  },
  {
   "cell_type": "code",
   "execution_count": 40,
   "metadata": {},
   "outputs": [
    {
     "name": "stdout",
     "output_type": "stream",
     "text": [
      "Classification Report for KNN\n",
      "              precision    recall  f1-score   support\n",
      "\n",
      "           0       0.44      0.97      0.61      4832\n",
      "           1       0.99      0.70      0.82     20168\n",
      "\n",
      "   micro avg       0.76      0.76      0.76     25000\n",
      "   macro avg       0.71      0.84      0.71     25000\n",
      "weighted avg       0.88      0.76      0.78     25000\n",
      "\n"
     ]
    }
   ],
   "source": [
    "print('Classification Report for KNN')\n",
    "print(report_neigh)"
   ]
  },
  {
   "cell_type": "markdown",
   "metadata": {},
   "source": [
    "### Balancing Data - SMOTE"
   ]
  },
  {
   "cell_type": "code",
   "execution_count": 41,
   "metadata": {},
   "outputs": [],
   "source": [
    "from imblearn.over_sampling import SMOTE"
   ]
  },
  {
   "cell_type": "code",
   "execution_count": 42,
   "metadata": {},
   "outputs": [
    {
     "name": "stdout",
     "output_type": "stream",
     "text": [
      "Class distribution from sample:\n",
      "Physical    80539\n",
      "Digital     19461\n",
      "Name: UsageClass, dtype: int64\n",
      "Syntethic class distribution:\n",
      "1    60371\n",
      "0    60371\n",
      "dtype: int64\n"
     ]
    }
   ],
   "source": [
    "print('Class distribution from sample:')\n",
    "print(data['UsageClass'].value_counts()) \n",
    "\n",
    "# resample data ONLY using training data\n",
    "X_resampled, y_resampled = SMOTE().fit_sample(X_train, y_train) \n",
    "\n",
    "print('Syntethic class distribution:')\n",
    "print(pd.Series(y_resampled).value_counts())"
   ]
  },
  {
   "cell_type": "code",
   "execution_count": 43,
   "metadata": {},
   "outputs": [],
   "source": [
    "# Split based on synthetic distribution\n",
    "\n",
    "X_train, X_test, y_train, y_test = train_test_split(X_resampled, y_resampled, test_size=0.25)"
   ]
  },
  {
   "cell_type": "markdown",
   "metadata": {},
   "source": [
    "### Random Forest"
   ]
  },
  {
   "cell_type": "code",
   "execution_count": 46,
   "metadata": {},
   "outputs": [
    {
     "name": "stdout",
     "output_type": "stream",
     "text": [
      "Training Accuracy: 100.0%\n",
      "Test Accuracy:     100.0%\n"
     ]
    }
   ],
   "source": [
    "forest = RandomForestClassifier(n_estimators=80, criterion='gini', max_depth=5, max_features=3, min_samples_split=3)\n",
    "\n",
    "forest.fit(X_train, y_train)\n",
    "\n",
    "forest_train_preds = forest.predict(X_train)\n",
    "forest_test_preds = forest.predict(X_test)\n",
    "\n",
    "forest_train_accuracy = accuracy_score(y_train, forest_train_preds)\n",
    "forest_test_accuracy = accuracy_score(y_test, forest_test_preds)\n",
    "\n",
    "forest_report = classification_report(y_test, forest_test_preds)\n",
    "\n",
    "print(f\"Training Accuracy: {(forest_train_accuracy * 100):.4}%\")\n",
    "print(f\"Test Accuracy:     {(forest_test_accuracy * 100):.4}%\")"
   ]
  },
  {
   "cell_type": "markdown",
   "metadata": {},
   "source": [
    "### XGB"
   ]
  },
  {
   "cell_type": "code",
   "execution_count": 47,
   "metadata": {},
   "outputs": [
    {
     "name": "stdout",
     "output_type": "stream",
     "text": [
      "Training Accuracy: 100.0%\n",
      "Test Accuracy:     100.0%\n"
     ]
    }
   ],
   "source": [
    "xgboost = xgb.XGBClassifier()\n",
    "\n",
    "xgb_model = xgb.XGBClassifier(gamma=0, learning_rate=0.05, max_depth=5, min_child_weight=1, n_estimators=50, scale_pos_weight=1)\n",
    "\n",
    "xgb_model.fit(X_train, y_train)\n",
    "\n",
    "xgb_train_preds = xgb_model.predict(X_train)\n",
    "xgb_test_preds = xgb_model.predict(X_test)\n",
    "\n",
    "xgb_train_accuracy = accuracy_score(y_train, xgb_train_preds)\n",
    "xgb_test_accuracy = accuracy_score(y_test, xgb_test_preds)\n",
    "xgb_report = classification_report(y_test, xgb_test_preds)\n",
    "\n",
    "print(f\"Training Accuracy: {(xgb_train_accuracy * 100):.4}%\")\n",
    "print(f\"Test Accuracy:     {(xgb_test_accuracy * 100):.4}%\")"
   ]
  },
  {
   "cell_type": "markdown",
   "metadata": {},
   "source": [
    "### SVM"
   ]
  },
  {
   "cell_type": "code",
   "execution_count": 49,
   "metadata": {},
   "outputs": [],
   "source": [
    "from sklearn import svm"
   ]
  },
  {
   "cell_type": "code",
   "execution_count": 50,
   "metadata": {},
   "outputs": [
    {
     "name": "stdout",
     "output_type": "stream",
     "text": [
      "Training Accuracy: 83.98%\n",
      "Test Accuracy:     83.81%\n"
     ]
    }
   ],
   "source": [
    "svm = svm.SVC(kernel='linear', class_weight='balanced', C=1.0, random_state=0)\n",
    "\n",
    "svm.fit(X_train, y_train)\n",
    "\n",
    "svm_train_preds = svm.predict(X_train)\n",
    "svm_test_preds = svm.predict(X_test)\n",
    "\n",
    "train_accuracy_svm = accuracy_score(y_train, svm_train_preds)\n",
    "test_accuracy_svm = accuracy_score(y_test, svm_test_preds)\n",
    "report_svm = classification_report(y_test, svm_test_preds)\n",
    "\n",
    "print(f\"Training Accuracy: {(train_accuracy_svm * 100):.4}%\")\n",
    "print(f\"Test Accuracy:     {(test_accuracy_svm * 100):.4}%\")"
   ]
  },
  {
   "cell_type": "code",
   "execution_count": 51,
   "metadata": {},
   "outputs": [
    {
     "name": "stdout",
     "output_type": "stream",
     "text": [
      "\n",
      " SVM Report:\n",
      "              precision    recall  f1-score   support\n",
      "\n",
      "           0       0.77      0.97      0.86     15042\n",
      "           1       0.96      0.71      0.81     15144\n",
      "\n",
      "   micro avg       0.84      0.84      0.84     30186\n",
      "   macro avg       0.86      0.84      0.84     30186\n",
      "weighted avg       0.86      0.84      0.84     30186\n",
      "\n"
     ]
    }
   ],
   "source": [
    "print('\\n SVM Report:')\n",
    "print(report_svm)"
   ]
  },
  {
   "cell_type": "code",
   "execution_count": 52,
   "metadata": {},
   "outputs": [
    {
     "data": {
      "image/png": "[encoded data removed]",
      "text/plain": [
       "<Figure size 432x288 with 2 Axes>"
      ]
     },
     "metadata": {
      "needs_background": "light"
     },
     "output_type": "display_data"
    }
   ],
   "source": [
    "svm_matrix = confusion_matrix(svm_test_preds, y_test)\n",
    "sns.heatmap(svm_matrix, cmap=\"YlGnBu\", fmt='.16g', annot=True);"
   ]
  },
  {
   "cell_type": "markdown",
   "metadata": {},
   "source": [
    "### KNN"
   ]
  },
  {
   "cell_type": "code",
   "execution_count": 54,
   "metadata": {},
   "outputs": [
    {
     "name": "stdout",
     "output_type": "stream",
     "text": [
      "Training Accuracy: 83.81%\n",
      "Test Accuracy:     83.81%\n"
     ]
    }
   ],
   "source": [
    "neigh = KNeighborsClassifier(algorithm='auto', weights='distance')\n",
    "\n",
    "neigh.fit(X_train, y_train)\n",
    "\n",
    "neigh_train_preds = svm.predict(X_train)\n",
    "neigh_test_preds = svm.predict(X_test)\n",
    "\n",
    "neigh_accuracy = accuracy_score(y_train, neigh_train_preds)\n",
    "neigh_accuracy = accuracy_score(y_test, neigh_test_preds)\n",
    "report_neigh = classification_report(y_test, neigh_test_preds)\n",
    "\n",
    "print(f\"Training Accuracy: {(neigh_accuracy * 100):.4}%\")\n",
    "print(f\"Test Accuracy:     {(neigh_accuracy * 100):.4}%\")"
   ]
  },
  {
   "cell_type": "code",
   "execution_count": 55,
   "metadata": {},
   "outputs": [
    {
     "name": "stdout",
     "output_type": "stream",
     "text": [
      "\n",
      " KNN Report:\n",
      "              precision    recall  f1-score   support\n",
      "\n",
      "           0       0.77      0.97      0.86     15042\n",
      "           1       0.96      0.71      0.81     15144\n",
      "\n",
      "   micro avg       0.84      0.84      0.84     30186\n",
      "   macro avg       0.86      0.84      0.84     30186\n",
      "weighted avg       0.86      0.84      0.84     30186\n",
      "\n"
     ]
    }
   ],
   "source": [
    "print('\\n KNN Report:')\n",
    "print(report_neigh)"
   ]
  },
  {
   "cell_type": "markdown",
   "metadata": {},
   "source": [
    "### Note\n",
    "Accuracy can be misleading, there is a large class imbalance in this eet, these models predicted the value of the majority class for all predictions and achieve a high classification accuracy, the problem is that they were not useful for our domain.\n",
    "\n",
    "This models were run for comparison purposes. For this data set accuracy is an inadequate measure for quantifying predictive perfomance. Refer to notebook #4 for an evaluation of different metrics."
   ]
  },
  {
   "cell_type": "code",
   "execution_count": null,
   "metadata": {},
   "outputs": [],
   "source": []
  },
  {
   "cell_type": "code",
   "execution_count": null,
   "metadata": {},
   "outputs": [],
   "source": []
  },
  {
   "cell_type": "markdown",
   "metadata": {},
   "source": []
  }
 ],
 "metadata": {
  "kernelspec": {
   "display_name": "Python 3",
   "language": "python",
   "name": "python3"
  },
  "language_info": {
   "codemirror_mode": {
    "name": "ipython",
    "version": 3
   },
   "file_extension": ".py",
   "mimetype": "text/x-python",
   "name": "python",
   "nbconvert_exporter": "python",
   "pygments_lexer": "ipython3",
   "version": "3.7.2"
  }
 },
 "nbformat": 4,
 "nbformat_minor": 2
}
