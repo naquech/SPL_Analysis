{
 "cells": [
  {
   "cell_type": "markdown",
   "metadata": {},
   "source": [
    "# Data Retrieval"
   ]
  },
  {
   "cell_type": "code",
   "execution_count": 1,
   "metadata": {},
   "outputs": [],
   "source": [
    "import pandas as pd\n",
    "import numpy as np\n",
    "\n",
    "import warnings\n",
    "warnings.filterwarnings('ignore')"
   ]
  },
  {
   "cell_type": "markdown",
   "metadata": {},
   "source": [
    "#### Original data set 'Checkouts by title':"
   ]
  },
  {
   "cell_type": "code",
   "execution_count": 3,
   "metadata": {},
   "outputs": [
    {
     "data": {
      "text/html": [
       "<div>\n",
       "<style scoped>\n",
       "    .dataframe tbody tr th:only-of-type {\n",
       "        vertical-align: middle;\n",
       "    }\n",
       "\n",
       "    .dataframe tbody tr th {\n",
       "        vertical-align: top;\n",
       "    }\n",
       "\n",
       "    .dataframe thead th {\n",
       "        text-align: right;\n",
       "    }\n",
       "</style>\n",
       "<table border=\"1\" class=\"dataframe\">\n",
       "  <thead>\n",
       "    <tr style=\"text-align: right;\">\n",
       "      <th></th>\n",
       "      <th>UsageClass</th>\n",
       "      <th>CheckoutType</th>\n",
       "      <th>MaterialType</th>\n",
       "      <th>CheckoutYear</th>\n",
       "      <th>CheckoutMonth</th>\n",
       "      <th>Checkouts</th>\n",
       "      <th>Title</th>\n",
       "      <th>Creator</th>\n",
       "      <th>Subjects</th>\n",
       "      <th>Publisher</th>\n",
       "      <th>PublicationYear</th>\n",
       "    </tr>\n",
       "  </thead>\n",
       "  <tbody>\n",
       "    <tr>\n",
       "      <th>0</th>\n",
       "      <td>Physical</td>\n",
       "      <td>Horizon</td>\n",
       "      <td>BOOK</td>\n",
       "      <td>2016</td>\n",
       "      <td>6</td>\n",
       "      <td>1</td>\n",
       "      <td>Capitalism unbound : the incontestable moral c...</td>\n",
       "      <td>Bernstein, Andrew</td>\n",
       "      <td>Capitalism</td>\n",
       "      <td>University Press of America,</td>\n",
       "      <td>c2010.</td>\n",
       "    </tr>\n",
       "    <tr>\n",
       "      <th>1</th>\n",
       "      <td>Digital</td>\n",
       "      <td>OverDrive</td>\n",
       "      <td>EBOOK</td>\n",
       "      <td>2016</td>\n",
       "      <td>6</td>\n",
       "      <td>2</td>\n",
       "      <td>A Fountain Filled With Blood: Clare Fergusson ...</td>\n",
       "      <td>Julia Spencer-Fleming</td>\n",
       "      <td>Fiction, Mystery</td>\n",
       "      <td>Macmillan Publishers</td>\n",
       "      <td>2013</td>\n",
       "    </tr>\n",
       "    <tr>\n",
       "      <th>2</th>\n",
       "      <td>Physical</td>\n",
       "      <td>Horizon</td>\n",
       "      <td>SOUNDDISC</td>\n",
       "      <td>2016</td>\n",
       "      <td>6</td>\n",
       "      <td>3</td>\n",
       "      <td>And winter came-- [sound recording] / Enya.</td>\n",
       "      <td>Enya</td>\n",
       "      <td>Christmas music, New Age music, Popular music ...</td>\n",
       "      <td>Reprise,</td>\n",
       "      <td>p2008.</td>\n",
       "    </tr>\n",
       "    <tr>\n",
       "      <th>3</th>\n",
       "      <td>Digital</td>\n",
       "      <td>OverDrive</td>\n",
       "      <td>EBOOK</td>\n",
       "      <td>2016</td>\n",
       "      <td>6</td>\n",
       "      <td>1</td>\n",
       "      <td>Simply Sensual</td>\n",
       "      <td>Carly Phillips</td>\n",
       "      <td>Contemporary Romance, Fiction, Romance</td>\n",
       "      <td>Harlequin Enterprises, Ltd.</td>\n",
       "      <td>2010</td>\n",
       "    </tr>\n",
       "    <tr>\n",
       "      <th>4</th>\n",
       "      <td>Physical</td>\n",
       "      <td>Horizon</td>\n",
       "      <td>BOOK</td>\n",
       "      <td>2016</td>\n",
       "      <td>6</td>\n",
       "      <td>33</td>\n",
       "      <td>Lafayette in the somewhat United States / Sara...</td>\n",
       "      <td>Vowell, Sarah, 1969-</td>\n",
       "      <td>Lafayette Marie Joseph Paul Yves Roch Gilbert ...</td>\n",
       "      <td>Riverhead Books,</td>\n",
       "      <td>2015.</td>\n",
       "    </tr>\n",
       "  </tbody>\n",
       "</table>\n",
       "</div>"
      ],
      "text/plain": [
       "  UsageClass CheckoutType MaterialType  CheckoutYear  CheckoutMonth  \\\n",
       "0   Physical      Horizon         BOOK          2016              6   \n",
       "1    Digital    OverDrive        EBOOK          2016              6   \n",
       "2   Physical      Horizon    SOUNDDISC          2016              6   \n",
       "3    Digital    OverDrive        EBOOK          2016              6   \n",
       "4   Physical      Horizon         BOOK          2016              6   \n",
       "\n",
       "   Checkouts                                              Title  \\\n",
       "0          1  Capitalism unbound : the incontestable moral c...   \n",
       "1          2  A Fountain Filled With Blood: Clare Fergusson ...   \n",
       "2          3        And winter came-- [sound recording] / Enya.   \n",
       "3          1                                     Simply Sensual   \n",
       "4         33  Lafayette in the somewhat United States / Sara...   \n",
       "\n",
       "                 Creator                                           Subjects  \\\n",
       "0      Bernstein, Andrew                                         Capitalism   \n",
       "1  Julia Spencer-Fleming                                   Fiction, Mystery   \n",
       "2                   Enya  Christmas music, New Age music, Popular music ...   \n",
       "3         Carly Phillips             Contemporary Romance, Fiction, Romance   \n",
       "4   Vowell, Sarah, 1969-  Lafayette Marie Joseph Paul Yves Roch Gilbert ...   \n",
       "\n",
       "                      Publisher PublicationYear  \n",
       "0  University Press of America,          c2010.  \n",
       "1          Macmillan Publishers            2013  \n",
       "2                      Reprise,          p2008.  \n",
       "3   Harlequin Enterprises, Ltd.            2010  \n",
       "4              Riverhead Books,           2015.  "
      ]
     },
     "execution_count": 3,
     "metadata": {},
     "output_type": "execute_result"
    }
   ],
   "source": [
    "spl = pd.read_csv('Data/Checkouts_by_Title.csv', thousands=',')\n",
    "# thousands arg used because column Checkouts has a mix of numbers, strings, \n",
    "#and the thousand separator is denoted as ','\n",
    "\n",
    "spl.head()"
   ]
  },
  {
   "cell_type": "markdown",
   "metadata": {},
   "source": [
    "## Initial information"
   ]
  },
  {
   "cell_type": "code",
   "execution_count": 53,
   "metadata": {},
   "outputs": [
    {
     "data": {
      "text/plain": [
       "(33156891, 11)"
      ]
     },
     "execution_count": 53,
     "metadata": {},
     "output_type": "execute_result"
    }
   ],
   "source": [
    "spl.shape"
   ]
  },
  {
   "cell_type": "code",
   "execution_count": 54,
   "metadata": {},
   "outputs": [
    {
     "name": "stdout",
     "output_type": "stream",
     "text": [
      "<class 'pandas.core.frame.DataFrame'>\n",
      "RangeIndex: 33156891 entries, 0 to 33156890\n",
      "Data columns (total 11 columns):\n",
      "UsageClass         object\n",
      "CheckoutType       object\n",
      "MaterialType       object\n",
      "CheckoutYear       int64\n",
      "CheckoutMonth      int64\n",
      "Checkouts          int64\n",
      "Title              object\n",
      "Creator            object\n",
      "Subjects           object\n",
      "Publisher          object\n",
      "PublicationYear    object\n",
      "dtypes: int64(3), object(8)\n",
      "memory usage: 2.7+ GB\n"
     ]
    }
   ],
   "source": [
    "# Data set overview\n",
    "\n",
    "spl.info()"
   ]
  },
  {
   "cell_type": "markdown",
   "metadata": {},
   "source": [
    "----------\n",
    "# Data Cleaning"
   ]
  },
  {
   "cell_type": "markdown",
   "metadata": {},
   "source": [
    "### NaN "
   ]
  },
  {
   "cell_type": "code",
   "execution_count": 55,
   "metadata": {},
   "outputs": [
    {
     "data": {
      "text/plain": [
       "UsageClass                0\n",
       "CheckoutType              0\n",
       "MaterialType              0\n",
       "CheckoutYear              0\n",
       "CheckoutMonth             0\n",
       "Checkouts                 0\n",
       "Title                     0\n",
       "Creator            11922438\n",
       "Subjects            1721680\n",
       "Publisher           9495800\n",
       "PublicationYear     9816305\n",
       "dtype: int64"
      ]
     },
     "execution_count": 55,
     "metadata": {},
     "output_type": "execute_result"
    }
   ],
   "source": [
    "spl.isna().sum()"
   ]
  },
  {
   "cell_type": "markdown",
   "metadata": {},
   "source": [
    "The vast ammount of NaN values we see here may be due to the combination of records made in 2016, for now I'll make them their own category and evaluate each column later on.\n",
    "\n",
    "*\"There are a few different reasons why you will sometimes find a blank subject headings field. Historic physical checkouts were combined with current Horizon bibliographic record details in December 2016. If there was not a Horizon bibliographic record for a title as of December 2016, a subject heading was not recorded.\n",
    "Also, some digital items have no Horizon bibliographic record. For example, music from Freegal is not cataloged within Horizon. Thus there will be no subject headings available for those checkouts.\"*"
   ]
  },
  {
   "cell_type": "code",
   "execution_count": 56,
   "metadata": {},
   "outputs": [],
   "source": [
    "# Creator column\n",
    "\n",
    "spl.Creator.replace(np.nan, 'Unknown', inplace=True)"
   ]
  },
  {
   "cell_type": "code",
   "execution_count": 57,
   "metadata": {},
   "outputs": [],
   "source": [
    "# Subjects column\n",
    "\n",
    "spl.Subjects.replace(np.nan, 'Unknown', inplace=True)"
   ]
  },
  {
   "cell_type": "code",
   "execution_count": 58,
   "metadata": {},
   "outputs": [],
   "source": [
    "# Publisher column\n",
    "\n",
    "spl.Publisher.replace(np.nan, 'Unknown', inplace=True)"
   ]
  },
  {
   "cell_type": "code",
   "execution_count": 59,
   "metadata": {},
   "outputs": [],
   "source": [
    "# PublicationYear column \n",
    "\n",
    "spl.PublicationYear.replace(np.nan, 'Unknown', inplace=True)"
   ]
  },
  {
   "cell_type": "code",
   "execution_count": 60,
   "metadata": {},
   "outputs": [
    {
     "data": {
      "text/plain": [
       "UsageClass         0\n",
       "CheckoutType       0\n",
       "MaterialType       0\n",
       "CheckoutYear       0\n",
       "CheckoutMonth      0\n",
       "Checkouts          0\n",
       "Title              0\n",
       "Creator            0\n",
       "Subjects           0\n",
       "Publisher          0\n",
       "PublicationYear    0\n",
       "dtype: int64"
      ]
     },
     "execution_count": 60,
     "metadata": {},
     "output_type": "execute_result"
    }
   ],
   "source": [
    "# Confirm \n",
    "\n",
    "spl.isna().sum()"
   ]
  },
  {
   "cell_type": "markdown",
   "metadata": {},
   "source": [
    "### Familiarize with each column"
   ]
  },
  {
   "cell_type": "markdown",
   "metadata": {},
   "source": [
    "##### UsageClass"
   ]
  },
  {
   "cell_type": "code",
   "execution_count": 6,
   "metadata": {},
   "outputs": [
    {
     "data": {
      "text/plain": [
       "array(['Physical', 'Digital'], dtype=object)"
      ]
     },
     "execution_count": 6,
     "metadata": {},
     "output_type": "execute_result"
    }
   ],
   "source": [
    "# UsageClass \tDenotes if item is “physical” or “digital”\n",
    "\n",
    "spl['UsageClass'].unique()"
   ]
  },
  {
   "cell_type": "markdown",
   "metadata": {},
   "source": [
    "##### CheckoutType"
   ]
  },
  {
   "cell_type": "code",
   "execution_count": 7,
   "metadata": {},
   "outputs": [
    {
     "data": {
      "text/plain": [
       "array(['Horizon', 'OverDrive', 'Freegal', 'Hoopla', 'Zinio'], dtype=object)"
      ]
     },
     "execution_count": 7,
     "metadata": {},
     "output_type": "execute_result"
    }
   ],
   "source": [
    "# CheckoutType \tDenotes the vendor tool used to check out the item\n",
    "\n",
    "spl['CheckoutType'].unique()"
   ]
  },
  {
   "cell_type": "markdown",
   "metadata": {},
   "source": [
    "* Freegal: stream and download songs\n",
    "* OverDrive: access e-books and audiobooks\n",
    "* Horizon: information portal used by the library previously\n",
    "* Hoopla: stream movies or TV shows\n",
    "* Zinio: digital magazines"
   ]
  },
  {
   "cell_type": "code",
   "execution_count": 63,
   "metadata": {},
   "outputs": [
    {
     "data": {
      "text/plain": [
       "Horizon      26662540\n",
       "OverDrive     5224321\n",
       "Freegal        969118\n",
       "Hoopla         291737\n",
       "Zinio            9175\n",
       "Name: CheckoutType, dtype: int64"
      ]
     },
     "execution_count": 63,
     "metadata": {},
     "output_type": "execute_result"
    }
   ],
   "source": [
    "spl['CheckoutType'].value_counts()"
   ]
  },
  {
   "cell_type": "markdown",
   "metadata": {},
   "source": [
    "##### MaterialType"
   ]
  },
  {
   "cell_type": "code",
   "execution_count": 64,
   "metadata": {},
   "outputs": [
    {
     "data": {
      "text/plain": [
       "BOOK                           18783118\n",
       "SOUNDDISC                       3871930\n",
       "EBOOK                           3641919\n",
       "VIDEODISC                       2886206\n",
       "AUDIOBOOK                       1516061\n",
       "SONG                             969118\n",
       "VIDEOCASS                        499677\n",
       "MUSIC                            263355\n",
       "SOUNDCASS                        199701\n",
       "MIXED                            132221\n",
       "MOVIE                             92192\n",
       "TELEVISION                        57730\n",
       "CR                                49406\n",
       "VIDEO                             44277\n",
       "SOUNDDISC, VIDEODISC              29008\n",
       "COMIC                             21492\n",
       "SOUNDREC                          21401\n",
       "VISUAL                            18591\n",
       "KIT                               11926\n",
       "ER                                10151\n",
       "MAGAZINE                           9175\n",
       "REGPRINT                           7387\n",
       "ER, VIDEODISC                      6110\n",
       "ER, SOUNDDISC                      4843\n",
       "ATLAS                              3471\n",
       "MAP                                2187\n",
       "MUSICSNDREC                         926\n",
       "LARGEPRINT                          543\n",
       "VIDEOREC                            327\n",
       "VIDEOCART                           254\n",
       "                                 ...   \n",
       "SLIDE, SOUNDCASS, VIDEOCASS         102\n",
       "REGPRINT, SOUNDDISC                  96\n",
       "SLIDE, VIDEOCASS                     96\n",
       "ER, PRINT                            94\n",
       "ER, NONPROJGRAPH                     93\n",
       "ER, VIDEOREC                         68\n",
       "UNSPECIFIED                          66\n",
       "SLIDE, SOUNDCASS                     66\n",
       "NOTATEDMUSIC                         58\n",
       "SOUNDCASS, VIDEOCASS                 51\n",
       "VIDEOCASS, VIDEODISC                 49\n",
       "REGPRINT, VIDEOREC                   48\n",
       "SOUNDCASS, SOUNDDISC                 47\n",
       "SLIDE                                41\n",
       "PICTURE                              31\n",
       "PRINT                                27\n",
       "ER, REGPRINT                         27\n",
       "PICTURE, VIDEODISC                   19\n",
       "COMPFILE                             17\n",
       "ER, SOUNDDISC, VIDEODISC             15\n",
       "ER, MAP                              12\n",
       "ER, PICTURE                           6\n",
       "CHART                                 5\n",
       "FLASHCARD                             5\n",
       "ATLAS, ER                             3\n",
       "NONPROJGRAPH                          2\n",
       "SECTION                               2\n",
       "REMOTESEN                             2\n",
       "ER, VIDEOCASS                         1\n",
       "MAP, VIEW                             1\n",
       "Name: MaterialType, Length: 66, dtype: int64"
      ]
     },
     "execution_count": 64,
     "metadata": {},
     "output_type": "execute_result"
    }
   ],
   "source": [
    "# MaterialType \tDescribes the type of item checked out (examples: book, song movie, music, magazine)\n",
    "\n",
    "spl['MaterialType'].value_counts()"
   ]
  },
  {
   "cell_type": "code",
   "execution_count": 65,
   "metadata": {},
   "outputs": [
    {
     "data": {
      "text/plain": [
       "array(['BOOK', 'EBOOK', 'SOUNDDISC', 'ER', 'VIDEODISC', 'SONG',\n",
       "       'AUDIOBOOK', 'MOVIE', 'MUSIC', 'SOUNDDISC, VIDEODISC',\n",
       "       'TELEVISION', 'VIDEO', 'SOUNDREC', 'MIXED', 'MAP', 'ER, SOUNDDISC',\n",
       "       'REGPRINT', 'SOUNDCASS', 'ATLAS', 'CR', 'VISUAL', 'ER, VIDEODISC',\n",
       "       'MAGAZINE', 'VIDEOREC', 'LARGEPRINT', 'REGPRINT, SOUNDDISC',\n",
       "       'VIDEOCASS, VIDEODISC', 'NOTATEDMUSIC', 'VIDEOCASS', 'MUSICSNDREC',\n",
       "       'ER, VIDEOREC', 'SOUNDDISC, SOUNDREC', 'FLASHCARD, SOUNDDISC',\n",
       "       'ER, REGPRINT', 'GLOBE', 'ER, PRINT', 'VIDEOCART',\n",
       "       'SOUNDCASS, SOUNDDISC, VIDEOCASS, VIDEODISC', 'ER, NONPROJGRAPH',\n",
       "       'REGPRINT, VIDEOREC', 'KIT', 'SLIDE, VIDEOCASS', 'SLIDE',\n",
       "       'MICROFORM', 'COMIC', 'PICTURE', 'SOUNDCASS, SOUNDDISC',\n",
       "       'SLIDE, SOUNDCASS, VIDEOCASS', 'FLASHCARD', 'CHART',\n",
       "       'SOUNDDISC, VIDEOCASS', 'UNSPECIFIED', 'REMOTESEN', 'PRINT',\n",
       "       'COMPFILE', 'NONPROJGRAPH', 'SLIDE, SOUNDCASS',\n",
       "       'SOUNDCASS, VIDEOCASS', 'ATLAS, ER', 'ER, MAP',\n",
       "       'PICTURE, VIDEODISC', 'ER, SOUNDDISC, VIDEODISC', 'ER, VIDEOCASS',\n",
       "       'ER, PICTURE', 'MAP, VIEW', 'SECTION'], dtype=object)"
      ]
     },
     "execution_count": 65,
     "metadata": {},
     "output_type": "execute_result"
    }
   ],
   "source": [
    "spl['MaterialType'].unique()"
   ]
  },
  {
   "cell_type": "markdown",
   "metadata": {},
   "source": [
    "#### Here I will move the types with double categories to a general classification of similar type. The type ER corresponds to formats that are print + media; so they are grouped into one single category."
   ]
  },
  {
   "cell_type": "code",
   "execution_count": 66,
   "metadata": {},
   "outputs": [],
   "source": [
    "# ER is Book/Print + Media\n",
    " \n",
    "spl.loc[spl['MaterialType'] == 'ER, SOUNDDISC', 'MaterialType'] = 'ER'\n",
    "spl.loc[spl['MaterialType'] == 'ER, VIDEODISC', 'MaterialType'] = 'ER'\n",
    "spl.loc[spl['MaterialType'] == 'ER, VIDEOREC', 'MaterialType'] = 'ER'\n",
    "spl.loc[spl['MaterialType'] == 'ER, REGPRINT', 'MaterialType'] = 'ER'\n",
    "spl.loc[spl['MaterialType'] == 'ER, PRINT', 'MaterialType'] = 'ER'\n",
    "spl.loc[spl['MaterialType'] == 'ER, NONPROJGRAPH', 'MaterialType'] = 'ER'\n",
    "spl.loc[spl['MaterialType'] == 'ATLAS, ER', 'MaterialType'] = 'ER'\n",
    "spl.loc[spl['MaterialType'] == 'ER, MAP', 'MaterialType'] = 'ER'\n",
    "spl.loc[spl['MaterialType'] == 'ER, SOUNDDISC, VIDEODISC', 'MaterialType'] = 'ER'\n",
    "spl.loc[spl['MaterialType'] == 'ER, VIDEOCASS', 'MaterialType'] = 'ER'\n",
    "spl.loc[spl['MaterialType'] == 'ER, PICTURE', 'MaterialType'] = 'ER'"
   ]
  },
  {
   "cell_type": "code",
   "execution_count": 67,
   "metadata": {},
   "outputs": [],
   "source": [
    "spl.loc[spl['MaterialType'] == 'SOUNDDISC, VIDEODISC', 'MaterialType'] = 'SOUNDCASS, SOUNDDISC, VIDEOCASS, VIDEODISC'\n",
    "spl.loc[spl['MaterialType'] == 'VIDEOCASS, VIDEODISC', 'MaterialType'] = 'SOUNDCASS, SOUNDDISC, VIDEOCASS, VIDEODISC'\n",
    "spl.loc[spl['MaterialType'] == 'SOUNDCASS, SOUNDDISC', 'MaterialType'] = 'SOUNDCASS, SOUNDDISC, VIDEOCASS, VIDEODISC'\n",
    "spl.loc[spl['MaterialType'] == 'SOUNDDISC, VIDEOCASS', 'MaterialType'] = 'SOUNDCASS, SOUNDDISC, VIDEOCASS, VIDEODISC'\n",
    "spl.loc[spl['MaterialType'] == 'SOUNDCASS, VIDEOCASS', 'MaterialType'] = 'SOUNDCASS, SOUNDDISC, VIDEOCASS, VIDEODISC'"
   ]
  },
  {
   "cell_type": "code",
   "execution_count": 68,
   "metadata": {},
   "outputs": [],
   "source": [
    "spl.loc[spl['MaterialType'] == 'REGPRINT, SOUNDDISC', 'MaterialType'] = 'REGPRINT'\n",
    "spl.loc[spl['MaterialType'] == 'REGPRINT, VIDEOREC', 'MaterialType'] = 'REGPRINT'"
   ]
  },
  {
   "cell_type": "code",
   "execution_count": 69,
   "metadata": {},
   "outputs": [],
   "source": [
    "spl.loc[spl['MaterialType'] == 'SLIDE, VIDEOCASS', 'MaterialType'] = 'SLIDE'\n",
    "spl.loc[spl['MaterialType'] == 'SLIDE, SOUNDCASS, VIDEOCASS', 'MaterialType'] = 'SLIDE'\n",
    "spl.loc[spl['MaterialType'] == 'SLIDE, SOUNDCASS', 'MaterialType'] = 'SLIDE'"
   ]
  },
  {
   "cell_type": "code",
   "execution_count": 70,
   "metadata": {},
   "outputs": [],
   "source": [
    "spl.loc[spl['MaterialType'] == 'FLASHCARD, SOUNDDISC', 'MaterialType'] = 'FLASHCARD'"
   ]
  },
  {
   "cell_type": "code",
   "execution_count": 71,
   "metadata": {},
   "outputs": [],
   "source": [
    "spl.loc[spl['MaterialType'] == 'SOUNDDISC, SOUNDREC', 'MaterialType'] = 'SOUNDREC'"
   ]
  },
  {
   "cell_type": "code",
   "execution_count": 72,
   "metadata": {},
   "outputs": [],
   "source": [
    "spl.loc[spl['MaterialType'] == 'PICTURE, VIDEODISC', 'MaterialType'] = 'PICTURE'"
   ]
  },
  {
   "cell_type": "code",
   "execution_count": 73,
   "metadata": {},
   "outputs": [],
   "source": [
    "spl.loc[spl['MaterialType'] == 'MAP, VIEW', 'MaterialType'] = 'MAP'"
   ]
  },
  {
   "cell_type": "code",
   "execution_count": 74,
   "metadata": {},
   "outputs": [
    {
     "data": {
      "text/plain": [
       "BOOK                                          18783118\n",
       "SOUNDDISC                                      3871930\n",
       "EBOOK                                          3641919\n",
       "VIDEODISC                                      2886206\n",
       "AUDIOBOOK                                      1516061\n",
       "SONG                                            969118\n",
       "VIDEOCASS                                       499677\n",
       "MUSIC                                           263355\n",
       "SOUNDCASS                                       199701\n",
       "MIXED                                           132221\n",
       "MOVIE                                            92192\n",
       "TELEVISION                                       57730\n",
       "CR                                               49406\n",
       "VIDEO                                            44277\n",
       "SOUNDCASS, SOUNDDISC, VIDEOCASS, VIDEODISC       29515\n",
       "SOUNDREC                                         21549\n",
       "COMIC                                            21492\n",
       "ER                                               21423\n",
       "VISUAL                                           18591\n",
       "KIT                                              11926\n",
       "MAGAZINE                                          9175\n",
       "REGPRINT                                          7531\n",
       "ATLAS                                             3471\n",
       "MAP                                               2188\n",
       "MUSICSNDREC                                        926\n",
       "LARGEPRINT                                         543\n",
       "VIDEOREC                                           327\n",
       "SLIDE                                              305\n",
       "VIDEOCART                                          254\n",
       "MICROFORM                                          186\n",
       "GLOBE                                              179\n",
       "FLASHCARD                                          170\n",
       "UNSPECIFIED                                         66\n",
       "NOTATEDMUSIC                                        58\n",
       "PICTURE                                             50\n",
       "PRINT                                               27\n",
       "COMPFILE                                            17\n",
       "CHART                                                5\n",
       "NONPROJGRAPH                                         2\n",
       "SECTION                                              2\n",
       "REMOTESEN                                            2\n",
       "Name: MaterialType, dtype: int64"
      ]
     },
     "execution_count": 74,
     "metadata": {},
     "output_type": "execute_result"
    }
   ],
   "source": [
    "# new counts\n",
    "\n",
    "spl['MaterialType'].value_counts()"
   ]
  },
  {
   "cell_type": "markdown",
   "metadata": {},
   "source": [
    "#### Still have some low frequency categories: move them to a category named 'OTHER'"
   ]
  },
  {
   "cell_type": "code",
   "execution_count": 9,
   "metadata": {},
   "outputs": [],
   "source": [
    "spl['MaterialType'].replace(['MUSICSNDREC','LARGEPRINT','VIDEOREC','SLIDE','VIDEOCART','MICROFORM','GLOBE',\n",
    "                             'FLASHCARD','UNSPECIFIED','NOTATEDMUSIC','PICTURE','PRINT','COMPFILE','CHART',\n",
    "                             'NONPROJGRAPH','SECTION','REMOTESEN'], 'OTHER', inplace=True)                          "
   ]
  },
  {
   "cell_type": "code",
   "execution_count": 10,
   "metadata": {},
   "outputs": [
    {
     "data": {
      "text/plain": [
       "BOOK                                          18783118\n",
       "SOUNDDISC                                      3871930\n",
       "EBOOK                                          3641919\n",
       "VIDEODISC                                      2886206\n",
       "AUDIOBOOK                                      1516061\n",
       "SONG                                            969118\n",
       "VIDEOCASS                                       499677\n",
       "MUSIC                                           263355\n",
       "SOUNDCASS                                       199701\n",
       "MIXED                                           132221\n",
       "MOVIE                                            92192\n",
       "TELEVISION                                       57730\n",
       "CR                                               49406\n",
       "VIDEO                                            44277\n",
       "SOUNDCASS, SOUNDDISC, VIDEOCASS, VIDEODISC       29515\n",
       "SOUNDREC                                         21549\n",
       "COMIC                                            21492\n",
       "ER                                               21423\n",
       "VISUAL                                           18591\n",
       "KIT                                              11926\n",
       "MAGAZINE                                          9175\n",
       "REGPRINT                                          7531\n",
       "ATLAS                                             3471\n",
       "OTHER                                             3119\n",
       "MAP                                               2188\n",
       "Name: MaterialType, dtype: int64"
      ]
     },
     "execution_count": 10,
     "metadata": {},
     "output_type": "execute_result"
    }
   ],
   "source": [
    "spl.MaterialType.value_counts()"
   ]
  },
  {
   "cell_type": "markdown",
   "metadata": {},
   "source": [
    "##### CheckoutYear"
   ]
  },
  {
   "cell_type": "code",
   "execution_count": 11,
   "metadata": {},
   "outputs": [
    {
     "data": {
      "text/plain": [
       "array([2016, 2017, 2018, 2019, 2005, 2006, 2007, 2008, 2009, 2010, 2011,\n",
       "       2012, 2013, 2014, 2015])"
      ]
     },
     "execution_count": 11,
     "metadata": {},
     "output_type": "execute_result"
    }
   ],
   "source": [
    "spl['CheckoutYear'].unique()"
   ]
  },
  {
   "cell_type": "markdown",
   "metadata": {},
   "source": [
    "##### CheckoutMonth"
   ]
  },
  {
   "cell_type": "code",
   "execution_count": 12,
   "metadata": {},
   "outputs": [
    {
     "data": {
      "text/plain": [
       "array([ 6,  7,  8,  9, 10,  3,  2,  1,  4,  5, 11, 12])"
      ]
     },
     "execution_count": 12,
     "metadata": {},
     "output_type": "execute_result"
    }
   ],
   "source": [
    "# CheckoutMonth \tThe month of checkout for this record\n",
    "\n",
    "spl['CheckoutMonth'].unique()"
   ]
  },
  {
   "cell_type": "markdown",
   "metadata": {},
   "source": [
    "##### Ckeckouts"
   ]
  },
  {
   "cell_type": "code",
   "execution_count": 13,
   "metadata": {},
   "outputs": [
    {
     "data": {
      "text/plain": [
       "array([   1,    2,    3,   33,    4,    5,   47,    7,    9,    6,   21,\n",
       "         18,   24,    8,   14,   13,   10,   72,   15,   17,   11,  146,\n",
       "         35,   12,   29,   49,   37,   90,   23,  115,   16,   20,   28,\n",
       "         26,   78,   22,   65,   96,   19,   40,   44,   48,  103,   30,\n",
       "         56,   53,   31,   95,   32,   34,  114,   86,   39,   51,   27,\n",
       "        135,   41,   36,   38,   80,   45,   42,   25,   62,   58,  117,\n",
       "        241,   50,   43,   61,  166,  191,  198,   60,   59,  124,   75,\n",
       "        232,  105,   52,   55,   68,   87,   46,   93,  219,   94,  120,\n",
       "        340,  140,  123,   71,   63,   69,   91,  130,  131,   66,  206,\n",
       "        145,   76,  132,  144,  192,   57,   54,  142,   67,  128,  112,\n",
       "         82,  155,  165,  102,   99,  401,   73,  101,   79,  176,  207,\n",
       "        237,   81,   64,   83,  224,   84,  111,  157,   89,  177,  138,\n",
       "         74,  170,  108,  298,  127,  129,  259,   85,   70,  188,   88,\n",
       "        137,  121,  160,  292,   97,  109,  616,  156,  214,  133,  107,\n",
       "        116,   98,  391,  110,  284,  134,  189,  257,   77,  104,  164,\n",
       "        154,  118,  194,  147,  122,  310,  209,  158,  125,  136,  143,\n",
       "        223,  106,  139,  200,  126,  113,   92,  159,  173,  119,  190,\n",
       "        274,  287,  152,  199,  289,  619,  222,  181,  195,  315,  438,\n",
       "        148,  162,  300,  221,  267,  100,  210,  175,  149,  251,  168,\n",
       "        360,  387,  172,  212,  185,  179,  385,  234,  163,  197,  180,\n",
       "        182,  377,  337,  277,  213,  211,  375,  183,  279,  311,  243,\n",
       "        286,  193,  247,  275,  229,  150,  302,  151,  230,  255,  141,\n",
       "        389,  304,  184,  187,  238,  312,  328,  161,  233,  363,  278,\n",
       "        169,  395,  256,  167,  269,  246,  635,  245,  388,  218,  225,\n",
       "        178,  283,  352,  228,  273,  288,  186,  216,  371,  332,  319,\n",
       "        174,  294,  333,  562,  153,  285,  231,  260,  220,  196,  203,\n",
       "        171,  264,  202,  307,  281,  330,  335,  314,  290,  258,  317,\n",
       "        398,  204,  399,  457,  205,  634,  226,  227,  430,  240,  208,\n",
       "        384,  266,  342,  358,  381,  253,  262,  272,  309,  346,  270,\n",
       "        242,  249,  544,  239,  271,  215,  376,  402,  336,  490,  496,\n",
       "        408,  338,  364,  357,  339,  201,  359,  291,  368,  236,  637,\n",
       "        419,  416,  348,  250,  577,  407,  414,  282,  576,  296,  350,\n",
       "        252,  268,  410,  361,  382,  325,  320,  344,  217,  421,  548,\n",
       "        351,  280,  356,  299,  235,  347,  297,  606,  498,  469,  327,\n",
       "        412,  372,  261,  254,  265,  321,  393,  405,  370,  313,  331,\n",
       "        303,  531,  362,  413,  293,  373,  276,  383,  353,  324,  322,\n",
       "        379,  521,  316,  323,  354,  334,  369,  244,  367,  349,  625,\n",
       "        477,  308,  443,  263,  582,  763,  386,  425,  248,  440,  783,\n",
       "        609,  435,  456,  602,  621,  437,  810,  661,  514,  694,  782,\n",
       "        444,  579,  507,  516,  543,  423,  404,  714,  532,  596,  988,\n",
       "        329,  777,  523,  654,  630,  778,  742,  527,  500,  587,  417,\n",
       "        613,  487,  595,  685,  710,  520,  530,  628,  572,  713,  598,\n",
       "        568,  558,  776,  633,  479,  380,  540,  495,  667,  601,  551,\n",
       "        627,  586,  420,  549,  432,  494,  552, 1175,  400,  301,  673,\n",
       "        515,  326,  394,  668,  486,  581,  341,  453,  422,  452,  355,\n",
       "        510,  426,  343,  564,  526,  474,  463,  503,  390,  458,  684,\n",
       "       1140,  518,  445, 1195,  466,  528,  766,  589,  600,  424,  478,\n",
       "        392,  459,  442,  573,  640,  345,  509,  467,  485,  608,  483,\n",
       "        406,  449,  669,  378,  427,  434,  415, 1318,  517,  563,  508,\n",
       "        448,  533,  605,  559,  522,  441,  489,  411,  429,  593,  481,\n",
       "        535, 1681,  455,  491,  671,  493,  451,  454,  519,  446,  536,\n",
       "        670,  295,  476,  505,  465, 1555,  599,  374,  305,  524,  539,\n",
       "        546,  501,  365,  747,  492,  396,  468, 1439,  397,  499,  542,\n",
       "        403,  567,  525,  471, 1830,  636,  450,  813,  318,  541,  506,\n",
       "        580,  475,  511,  436,  433,  460,  472, 1699,  728,  306,  484,\n",
       "        462, 2073,  566,  578,  569,  470,  698,  658,  847,  557,  561,\n",
       "       1683,  691,  439,  660,  687,  716, 1148,  473,  488,  735,  583,\n",
       "        366,  585,  502,  848,  683,  617,  869,  708,  504, 1347,  555,\n",
       "       1044,  409,  534,  801,  594,  996,  428,  657,  645,  648,  418,\n",
       "        537,  497,  538,  592,  570,  431,  480,  529,  512,  588,  574,\n",
       "        461,  591,  554,  622,  553,  547,  447,  482,  513,  656,  620])"
      ]
     },
     "execution_count": 13,
     "metadata": {},
     "output_type": "execute_result"
    }
   ],
   "source": [
    "# check for possible placeholders\n",
    "\n",
    "spl.Checkouts.unique()"
   ]
  },
  {
   "cell_type": "markdown",
   "metadata": {},
   "source": [
    "##### PublicationYear"
   ]
  },
  {
   "cell_type": "code",
   "execution_count": 14,
   "metadata": {},
   "outputs": [
    {
     "data": {
      "text/plain": [
       "array(['c2010.', '2013', 'p2008.', ..., '©1943.', '1969 [c1965]',\n",
       "       'Spencer-Walker Press, 1988.'], dtype=object)"
      ]
     },
     "execution_count": 14,
     "metadata": {},
     "output_type": "execute_result"
    }
   ],
   "source": [
    "# PublicationYear\tThe year from the catalog record in which the item was published, printed, or copyrighted. \n",
    "\n",
    "spl['PublicationYear'].unique()"
   ]
  },
  {
   "cell_type": "code",
   "execution_count": 15,
   "metadata": {},
   "outputs": [],
   "source": [
    "#Remove the extra dates in square brackets, wherever present: 1879 [1878]\n",
    "#Convert date ranges to their “start date”, wherever present: 1860-63; 1839, 38-54\n",
    "#Completely remove the dates we are not certain about and replace them with NumPy’s NaN: [1897?]\n",
    "\n",
    "spl.PublicationYear = spl['PublicationYear'].str.extract(r'^(\\d{4})', expand=False)"
   ]
  },
  {
   "cell_type": "code",
   "execution_count": 16,
   "metadata": {},
   "outputs": [
    {
     "data": {
      "text/plain": [
       "array([nan, '2013', '2010', '2015', '2008', '2011', '2014', '2006',\n",
       "       '2012', '2003', '1977', '2016', '2009', '1968', '2000', '1994',\n",
       "       '1997', '2007', '1995', '1970', '1988', '1998', '2002', '1996',\n",
       "       '1953', '1992', '2004', '1999', '2001', '1987', '1981', '2005',\n",
       "       '1990', '1976', '1989', '1979', '1965', '1951', '1950', '1991',\n",
       "       '1984', '1973', '1914', '1993', '1978', '1974', '1983', '1985',\n",
       "       '1939', '1972', '1897', '1957', '1966', '1955', '1922', '1924',\n",
       "       '1954', '1901', '1964', '1942', '1912', '1971', '1967', '1975',\n",
       "       '1961', '1982', '1980', '1947', '1937', '1969', '1986', '1938',\n",
       "       '1935', '1940', '1930', '1927', '1963', '1908', '1960', '1952',\n",
       "       '1925', '1915', '1936', '1962', '1943', '1958', '1944', '1946',\n",
       "       '1959', '1905', '1926', '1948', '1896', '1945', '1899', '1932',\n",
       "       '1902', '1929', '1903', '1857', '1941', '1918', '1933', '1920',\n",
       "       '1923', '1934', '1928', '1898', '1949', '1916', '1854', '1873',\n",
       "       '1894', '1956', '1887', '1882', '1931', '1911', '1909', '1869',\n",
       "       '1885', '1917', '1907', '1893', '1910', '1895', '1900', '1921',\n",
       "       '1865', '1850', '1891', '1919', '1906', '1904', '1884', '1879',\n",
       "       '1886', '1913', '1871', '1889', '1890', '1888', '1831', '9200',\n",
       "       '2017', '1870', '1875', '1880', '1864', '1859', '1877', '1855',\n",
       "       '1892', '1827', '1876', '1861', '1849', '1878', '1867', '1874',\n",
       "       '1863', '1829', '1881', '1883', '1839', '1824', '1862', '2018',\n",
       "       '1860', '1840', '1837', '1431', '1174', '1872', '1866', '1856',\n",
       "       '1848', '1818', '1842', '1845', '2019', '1406', '1868', '1846',\n",
       "       '1844', '1847', '1416', '1843', '5761', '1851', '2022', '1810',\n",
       "       '1858', '1801', '1833', '1752', '1835', '1853', '5706', '1838',\n",
       "       '1852', '1730', '1811', '1825', '1834'], dtype=object)"
      ]
     },
     "execution_count": 16,
     "metadata": {},
     "output_type": "execute_result"
    }
   ],
   "source": [
    "spl['PublicationYear'].unique()"
   ]
  },
  {
   "cell_type": "code",
   "execution_count": 17,
   "metadata": {},
   "outputs": [
    {
     "data": {
      "text/plain": [
       "array(['9999', '2013', '2010', '2015', '2008', '2011', '2014', '2006',\n",
       "       '2012', '2003', '1977', '2016', '2009', '1968', '2000', '1994',\n",
       "       '1997', '2007', '1995', '1970', '1988', '1998', '2002', '1996',\n",
       "       '1953', '1992', '2004', '1999', '2001', '1987', '1981', '2005',\n",
       "       '1990', '1976', '1989', '1979', '1965', '1951', '1950', '1991',\n",
       "       '1984', '1973', '1914', '1993', '1978', '1974', '1983', '1985',\n",
       "       '1939', '1972', '1897', '1957', '1966', '1955', '1922', '1924',\n",
       "       '1954', '1901', '1964', '1942', '1912', '1971', '1967', '1975',\n",
       "       '1961', '1982', '1980', '1947', '1937', '1969', '1986', '1938',\n",
       "       '1935', '1940', '1930', '1927', '1963', '1908', '1960', '1952',\n",
       "       '1925', '1915', '1936', '1962', '1943', '1958', '1944', '1946',\n",
       "       '1959', '1905', '1926', '1948', '1896', '1945', '1899', '1932',\n",
       "       '1902', '1929', '1903', '1857', '1941', '1918', '1933', '1920',\n",
       "       '1923', '1934', '1928', '1898', '1949', '1916', '1854', '1873',\n",
       "       '1894', '1956', '1887', '1882', '1931', '1911', '1909', '1869',\n",
       "       '1885', '1917', '1907', '1893', '1910', '1895', '1900', '1921',\n",
       "       '1865', '1850', '1891', '1919', '1906', '1904', '1884', '1879',\n",
       "       '1886', '1913', '1871', '1889', '1890', '1888', '1831', '9200',\n",
       "       '2017', '1870', '1875', '1880', '1864', '1859', '1877', '1855',\n",
       "       '1892', '1827', '1876', '1861', '1849', '1878', '1867', '1874',\n",
       "       '1863', '1829', '1881', '1883', '1839', '1824', '1862', '2018',\n",
       "       '1860', '1840', '1837', '1431', '1174', '1872', '1866', '1856',\n",
       "       '1848', '1818', '1842', '1845', '2019', '1406', '1868', '1846',\n",
       "       '1844', '1847', '1416', '1843', '5761', '1851', '2022', '1810',\n",
       "       '1858', '1801', '1833', '1752', '1835', '1853', '5706', '1838',\n",
       "       '1852', '1730', '1811', '1825', '1834'], dtype=object)"
      ]
     },
     "execution_count": 17,
     "metadata": {},
     "output_type": "execute_result"
    }
   ],
   "source": [
    "spl['PublicationYear'].fillna('9999', inplace=True);\n",
    "spl['PublicationYear'].unique()"
   ]
  },
  {
   "cell_type": "code",
   "execution_count": 18,
   "metadata": {},
   "outputs": [],
   "source": [
    "# change to type int\n",
    "\n",
    "spl.PublicationYear = spl['PublicationYear'].astype(str).astype(int);"
   ]
  },
  {
   "cell_type": "markdown",
   "metadata": {},
   "source": [
    "#### At this point I believe I have a clean version (mostly) of the data and save it for future use."
   ]
  },
  {
   "cell_type": "code",
   "execution_count": 19,
   "metadata": {},
   "outputs": [
    {
     "name": "stdout",
     "output_type": "stream",
     "text": [
      "<class 'pandas.core.frame.DataFrame'>\n",
      "RangeIndex: 33156891 entries, 0 to 33156890\n",
      "Data columns (total 11 columns):\n",
      "UsageClass         object\n",
      "CheckoutType       object\n",
      "MaterialType       object\n",
      "CheckoutYear       int64\n",
      "CheckoutMonth      int64\n",
      "Checkouts          int64\n",
      "Title              object\n",
      "Creator            object\n",
      "Subjects           object\n",
      "Publisher          object\n",
      "PublicationYear    int64\n",
      "dtypes: int64(4), object(7)\n",
      "memory usage: 2.7+ GB\n"
     ]
    }
   ],
   "source": [
    "# Confirm all data types\n",
    "\n",
    "spl.info()"
   ]
  },
  {
   "cell_type": "markdown",
   "metadata": {},
   "source": [
    "### Creator"
   ]
  },
  {
   "cell_type": "code",
   "execution_count": 11,
   "metadata": {},
   "outputs": [],
   "source": [
    "import nltk\n",
    "\n",
    "from nltk.collocations import *\n",
    "from nltk import FreqDist, word_tokenize\n",
    "\n",
    "from nltk.corpus import stopwords"
   ]
  },
  {
   "cell_type": "code",
   "execution_count": 2,
   "metadata": {},
   "outputs": [],
   "source": [
    "#spl = pd.read_csv('Data/spl_clean.csv')"
   ]
  },
  {
   "cell_type": "code",
   "execution_count": 3,
   "metadata": {},
   "outputs": [
    {
     "data": {
      "text/html": [
       "<div>\n",
       "<style scoped>\n",
       "    .dataframe tbody tr th:only-of-type {\n",
       "        vertical-align: middle;\n",
       "    }\n",
       "\n",
       "    .dataframe tbody tr th {\n",
       "        vertical-align: top;\n",
       "    }\n",
       "\n",
       "    .dataframe thead th {\n",
       "        text-align: right;\n",
       "    }\n",
       "</style>\n",
       "<table border=\"1\" class=\"dataframe\">\n",
       "  <thead>\n",
       "    <tr style=\"text-align: right;\">\n",
       "      <th></th>\n",
       "      <th>UsageClass</th>\n",
       "      <th>CheckoutType</th>\n",
       "      <th>MaterialType</th>\n",
       "      <th>CheckoutYear</th>\n",
       "      <th>CheckoutMonth</th>\n",
       "      <th>Checkouts</th>\n",
       "      <th>Title</th>\n",
       "      <th>Creator</th>\n",
       "      <th>Subjects</th>\n",
       "      <th>Publisher</th>\n",
       "      <th>PublicationYear</th>\n",
       "    </tr>\n",
       "  </thead>\n",
       "  <tbody>\n",
       "    <tr>\n",
       "      <th>0</th>\n",
       "      <td>Physical</td>\n",
       "      <td>Horizon</td>\n",
       "      <td>BOOK</td>\n",
       "      <td>2016</td>\n",
       "      <td>6</td>\n",
       "      <td>1</td>\n",
       "      <td>Capitalism unbound : the incontestable moral c...</td>\n",
       "      <td>Bernstein Andrew</td>\n",
       "      <td>Capitalism</td>\n",
       "      <td>University Press of America,</td>\n",
       "      <td>9999</td>\n",
       "    </tr>\n",
       "    <tr>\n",
       "      <th>1</th>\n",
       "      <td>Digital</td>\n",
       "      <td>OverDrive</td>\n",
       "      <td>EBOOK</td>\n",
       "      <td>2016</td>\n",
       "      <td>6</td>\n",
       "      <td>2</td>\n",
       "      <td>A Fountain Filled With Blood: Clare Fergusson ...</td>\n",
       "      <td>Julia Spencer Fleming</td>\n",
       "      <td>Fiction, Mystery</td>\n",
       "      <td>Macmillan Publishers</td>\n",
       "      <td>2013</td>\n",
       "    </tr>\n",
       "  </tbody>\n",
       "</table>\n",
       "</div>"
      ],
      "text/plain": [
       "  UsageClass CheckoutType MaterialType  CheckoutYear  CheckoutMonth  \\\n",
       "0   Physical      Horizon         BOOK          2016              6   \n",
       "1    Digital    OverDrive        EBOOK          2016              6   \n",
       "\n",
       "   Checkouts                                              Title  \\\n",
       "0          1  Capitalism unbound : the incontestable moral c...   \n",
       "1          2  A Fountain Filled With Blood: Clare Fergusson ...   \n",
       "\n",
       "                 Creator          Subjects                     Publisher  \\\n",
       "0       Bernstein Andrew        Capitalism  University Press of America,   \n",
       "1  Julia Spencer Fleming  Fiction, Mystery          Macmillan Publishers   \n",
       "\n",
       "   PublicationYear  \n",
       "0             9999  \n",
       "1             2013  "
      ]
     },
     "execution_count": 3,
     "metadata": {},
     "output_type": "execute_result"
    }
   ],
   "source": [
    "spl.head(2)"
   ]
  },
  {
   "cell_type": "code",
   "execution_count": 8,
   "metadata": {},
   "outputs": [],
   "source": [
    "spl['Creator'].value_counts()  \n",
    "# length: 346,064 "
   ]
  },
  {
   "cell_type": "code",
   "execution_count": 12,
   "metadata": {},
   "outputs": [],
   "source": [
    "# remove punctuation\n",
    "spl['Creator'] = spl['Creator'].str.replace(\"[^a-zA-Z#]\", \" \")"
   ]
  },
  {
   "cell_type": "code",
   "execution_count": 22,
   "metadata": {},
   "outputs": [],
   "source": [
    "spl['Creator'].value_counts()"
   ]
  },
  {
   "cell_type": "markdown",
   "metadata": {},
   "source": [
    "### Subjects"
   ]
  },
  {
   "cell_type": "code",
   "execution_count": 18,
   "metadata": {},
   "outputs": [],
   "source": [
    "spl['Subjects'].value_counts()   #length: 788,067"
   ]
  },
  {
   "cell_type": "code",
   "execution_count": 19,
   "metadata": {},
   "outputs": [],
   "source": [
    "# remove punctuation\n",
    "spl['Subjects'] = spl['Subjects'].str.replace(\"[^a-zA-Z#]\", \" \")"
   ]
  },
  {
   "cell_type": "code",
   "execution_count": 21,
   "metadata": {},
   "outputs": [],
   "source": [
    "spl['Subjects'].value_counts() "
   ]
  },
  {
   "cell_type": "markdown",
   "metadata": {},
   "source": [
    "### Publisher"
   ]
  },
  {
   "cell_type": "code",
   "execution_count": 23,
   "metadata": {},
   "outputs": [
    {
     "data": {
      "text/plain": [
       "Unknown                                                                                  9495830\n",
       "Random House, Inc.                                                                        828044\n",
       "Penguin Group (USA), Inc.                                                                 625739\n",
       "HarperCollins Publishers Inc.                                                             591399\n",
       "Books on Tape                                                                             357846\n",
       "Blackstone Audio, Inc.                                                                    353808\n",
       "Macmillan Publishers                                                                      228799\n",
       "Hachette Digital, Inc.                                                                    221434\n",
       "Thorndike Press,                                                                          198220\n",
       "Random House,                                                                             190678\n",
       "Simon & Schuster, Inc.                                                                    168774\n",
       "Viking,                                                                                   126096\n",
       "Candlewick Press,                                                                         120828\n",
       "HarperCollins,                                                                            120149\n",
       "Harlequin Enterprises, Ltd.                                                               116596\n",
       "Warner Home Video,                                                                        114695\n",
       "Simon & Schuster,                                                                         109269\n",
       "Tantor Media, Inc                                                                         107553\n",
       "Alfred A. Knopf,                                                                          104852\n",
       "Scholastic,                                                                                98347\n",
       "St. Martin's Press,                                                                        94104\n",
       "Oxford University Press,                                                                   91803\n",
       "Houghton Mifflin,                                                                          91392\n",
       "Viz Media,                                                                                 89977\n",
       "Simon & Schuster Books for Young Readers,                                                  86669\n",
       "Harper,                                                                                    84993\n",
       "Recorded Books,                                                                            76209\n",
       "Brilliance Audio, Inc.                                                                     73480\n",
       "Little, Brown,                                                                             73266\n",
       "DC Comics,                                                                                 73031\n",
       "                                                                                          ...   \n",
       "WE, inc.,                                                                                      1\n",
       "Republic / Universal                                                                           1\n",
       "Whitney Publications [etc.]                                                                    1\n",
       "N.D. Thompson,                                                                                 1\n",
       "Star Co.,                                                                                      1\n",
       "U.S. Dept. of Justice, Office Justice Programs, National Institute of Justice,                 1\n",
       "[Senior Information and Assistance],                                                           1\n",
       "Royal Artillery Institution,                                                                   1\n",
       "Harvard University Press : W. Heinemann,                                                       1\n",
       "Gingerbread Man Records/Elektra                                                                1\n",
       "EchoPark ARTS Entertainment LLC                                                                1\n",
       "Saturday Sunset Presses,                                                                       1\n",
       "Printed from the original wood engraving blocks by F. McCaffrey at his Dogwood Press,          1\n",
       "Polska Oficyna Wydawnicza \"BGW\",                                                               1\n",
       "Editions Berlitz,                                                                              1\n",
       "© Electro Sensual                                                                              1\n",
       "[L.R. Poppleton?,],                                                                            1\n",
       "[Fund for Alexandria],                                                                         1\n",
       "P.M.S.F. Daniels,                                                                              1\n",
       "Samurai Horo                                                                                   1\n",
       "Brant and Fuller,                                                                              1\n",
       "Music World Productions                                                                        1\n",
       "[ARC Architects?],                                                                             1\n",
       "Press of T.A. Wright,                                                                          1\n",
       "T.B. Peterson,                                                                                 1\n",
       "TB Media                                                                                       1\n",
       "Trinity University Press ,                                                                     1\n",
       "Hartwells of America,                                                                          1\n",
       "Washington State Department of Transportation,                                                 1\n",
       "Oberon Press,                                                                                  1\n",
       "Name: Publisher, Length: 83227, dtype: int64"
      ]
     },
     "execution_count": 23,
     "metadata": {},
     "output_type": "execute_result"
    }
   ],
   "source": [
    "spl['Publisher'].value_counts()"
   ]
  },
  {
   "cell_type": "code",
   "execution_count": null,
   "metadata": {},
   "outputs": [],
   "source": []
  },
  {
   "cell_type": "code",
   "execution_count": null,
   "metadata": {},
   "outputs": [],
   "source": []
  },
  {
   "cell_type": "code",
   "execution_count": 24,
   "metadata": {},
   "outputs": [],
   "source": [
    "# save to Data directory\n",
    "\n",
    "spl.to_csv('Data/spl_clean.csv', index=False)"
   ]
  },
  {
   "cell_type": "code",
   "execution_count": null,
   "metadata": {},
   "outputs": [],
   "source": []
  }
 ],
 "metadata": {
  "kernelspec": {
   "display_name": "Python 3",
   "language": "python",
   "name": "python3"
  },
  "language_info": {
   "codemirror_mode": {
    "name": "ipython",
    "version": 3
   },
   "file_extension": ".py",
   "mimetype": "text/x-python",
   "name": "python",
   "nbconvert_exporter": "python",
   "pygments_lexer": "ipython3",
   "version": "3.7.2"
  }
 },
 "nbformat": 4,
 "nbformat_minor": 2
}
